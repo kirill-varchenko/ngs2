{
 "cells": [
  {
   "cell_type": "markdown",
   "metadata": {},
   "source": [
    "Метод:\n",
    "1. Получил скорректированные риды. \n",
    "2. Выровнял исходные риды на референс, скорректированные парные риды в PE режиме и утратившие парность в single режиме.\n",
    "3. По всем SAM файлам по CIGAR восстановил выравнивания с вставкой _ на месте инделов.\n",
    "4. Смёрджил выравнивания исходных ридов и скорректированных по QNAME (предварительно восстановив суффиксы /1, /2 как в исходных парных ридах).\n",
    "5. Прошёлся по всем параллельным четвёркам нуклеотидов из исходного рида, части референса, куда он выровнялся, скорректированного рида, части референса, куда выровнялся скорректированный рид. Посчитал количество каждых случаев в требумой матрице."
   ]
  },
  {
   "cell_type": "code",
   "execution_count": 1,
   "metadata": {},
   "outputs": [],
   "source": [
    "import pandas as pd\n",
    "import numpy as np\n",
    "from itertools import zip_longest\n",
    "import re\n",
    "from IPython.display import display \n",
    "import csv\n",
    "from multiprocessing import Pool"
   ]
  },
  {
   "cell_type": "code",
   "execution_count": 2,
   "metadata": {},
   "outputs": [],
   "source": [
    "#SAM_COL_NAMES = ['QNAME', 'FLAG', 'RNAME', 'POS', 'MAPQ', 'CIGAR', 'RNEXT', 'PNEXT', 'TLEN', 'SEQ', 'QUAL', 'TAGS']\n",
    "SAM_COL_NAMES = ['QNAME', 'POS', 'CIGAR', 'SEQ']"
   ]
  },
  {
   "cell_type": "code",
   "execution_count": 3,
   "metadata": {},
   "outputs": [],
   "source": [
    "def read_ref(ref_path):\n",
    "    ref = ''\n",
    "    with open(ref_path, 'r') as fi:\n",
    "        for line in fi:\n",
    "            if line[0] != '>':\n",
    "                ref += line.strip()\n",
    "    return ref\n",
    "\n",
    "def read_sam(sam_path):\n",
    "    res = []\n",
    "    with open(sam_path, newline='') as fi:\n",
    "        reader = csv.DictReader(fi, delimiter='\\t', fieldnames=SAM_COL_NAMES, quoting=csv.QUOTE_NONE)\n",
    "        for row in reader:\n",
    "            if row['QNAME'][0] != '@':\n",
    "                res.append(row)\n",
    "    return res"
   ]
  },
  {
   "cell_type": "code",
   "execution_count": 4,
   "metadata": {},
   "outputs": [],
   "source": [
    "def parse_cigar(row): \n",
    "    read_seq = row['SEQ']\n",
    "    pos = int(row['POS'])\n",
    "    cigar = re.findall(r'(\\d+)([MIDNSHP=X])', row['CIGAR'])\n",
    "    seq_aligned = ''\n",
    "    ref_aligned = ''\n",
    "    i = 0\n",
    "    j = pos - 1\n",
    "\n",
    "    for cig_len_s, cig_ch in cigar:\n",
    "        cig_len = int(cig_len_s)\n",
    "        if cig_ch == 'M':\n",
    "            # match or mismatch\n",
    "            seq_aligned += read_seq[i:i + cig_len]\n",
    "            ref_aligned += ref[j:j + cig_len]\n",
    "        elif cig_ch == 'D':\n",
    "            # deletion\n",
    "            seq_aligned += '_' * cig_len\n",
    "            ref_aligned += ref[j:j + cig_len]\n",
    "        elif cig_ch == 'I':\n",
    "            # insertion\n",
    "            seq_aligned += read_seq[i:i + cig_len]\n",
    "            ref_aligned += '_' * cig_len\n",
    "        elif cig_ch == 'S':\n",
    "            # clipping\n",
    "            seq_aligned += '_' * cig_len\n",
    "            ref_aligned += '_' * cig_len\n",
    "        \n",
    "        if cig_ch not in 'DNHP':\n",
    "                i += cig_len\n",
    "        if cig_ch not in 'ISHP':\n",
    "                j += cig_len\n",
    "    \n",
    "    res = {'read': row['QNAME']}\n",
    "    res['seq_aligned'] = seq_aligned.replace('N', '_')\n",
    "    res['ref_aligned'] = ref_aligned\n",
    "    \n",
    "    return res"
   ]
  },
  {
   "cell_type": "code",
   "execution_count": 5,
   "metadata": {},
   "outputs": [],
   "source": [
    "def read_raw_sam(filename_raw):\n",
    "    sam_raw = read_sam(filename_raw)\n",
    "    i = 1\n",
    "    for row in sam_raw:\n",
    "        row['QNAME'] += f'/{i}'\n",
    "        i = 3 - i\n",
    "    sam_raw = [row for row in sam_raw if row['CIGAR'] != '*']\n",
    "    with Pool() as p:\n",
    "        res = p.map(parse_cigar, sam_raw)\n",
    "    return res"
   ]
  },
  {
   "cell_type": "code",
   "execution_count": 6,
   "metadata": {},
   "outputs": [],
   "source": [
    "def read_spades_sam(filename_paired, filename_unpaired):\n",
    "    sam_spades_paired = read_sam(filename_paired)\n",
    "    i = 1\n",
    "    for row in sam_spades_paired:\n",
    "        row['QNAME'] += f'/{i}'\n",
    "        i = 3 - i\n",
    "    sam_spades_paired = [row for row in sam_spades_paired if row['CIGAR'] != '*']\n",
    "    with Pool() as p:\n",
    "        new_sam_spades = p.map(parse_cigar, sam_spades_paired)\n",
    "    \n",
    "    sam_spades_unpaired = read_sam(filename_unpaired)\n",
    "    for row in sam_spades_unpaired:\n",
    "        row['QNAME'] = '/'.join(row['QNAME'].rsplit('_', 1))\n",
    "    with Pool() as p:\n",
    "        res = p.map(parse_cigar, sam_spades_unpaired)\n",
    "    new_sam_spades.extend(res)\n",
    "    \n",
    "    return new_sam_spades"
   ]
  },
  {
   "cell_type": "code",
   "execution_count": 7,
   "metadata": {},
   "outputs": [],
   "source": [
    "def read_trimmomatic_sam(filename_paired, filename_unpaired1, filename_unpaired2):\n",
    "    sam_trimmomatic_paired = read_sam(filename_paired)\n",
    "    i = 1\n",
    "    for row in sam_trimmomatic_paired:\n",
    "        row['QNAME'] += f'/{i}'\n",
    "        i = 3 - i\n",
    "    sam_trimmomatic_paired = [row for row in sam_trimmomatic_paired if row['CIGAR'] != '*']\n",
    "    with Pool() as p:\n",
    "        new_sam_trimmomatic = p.map(parse_cigar, sam_trimmomatic_paired)\n",
    "    \n",
    "    sam_trimmomatic_unpaired1 = read_sam(filename_unpaired1)\n",
    "    for row in sam_trimmomatic_unpaired1:\n",
    "        row['QNAME'] = '/'.join(row['QNAME'].rsplit('_', 1))\n",
    "    with Pool() as p:\n",
    "        res = p.map(parse_cigar, sam_trimmomatic_unpaired1)\n",
    "    new_sam_trimmomatic.extend(res)\n",
    "    \n",
    "    sam_trimmomatic_unpaired2 = read_sam(filename_unpaired2)\n",
    "    for row in sam_trimmomatic_unpaired2:\n",
    "        row['QNAME'] = '/'.join(row['QNAME'].rsplit('_', 1))\n",
    "    with Pool() as p:\n",
    "        res = p.map(parse_cigar, sam_trimmomatic_unpaired2)\n",
    "    new_sam_trimmomatic.extend(res)\n",
    "        \n",
    "    return new_sam_trimmomatic"
   ]
  },
  {
   "cell_type": "code",
   "execution_count": 8,
   "metadata": {},
   "outputs": [],
   "source": [
    "def count_row(row):\n",
    "    count = np.zeros((2, 3), dtype=int)\n",
    "    \n",
    "    for raw_seq, raw_ref, corr_seq, corr_ref in zip_longest(row['seq_aligned_raw'], \n",
    "                                                    row['ref_aligned_raw'],\n",
    "                                                    row['seq_aligned_corr'], \n",
    "                                                    row['ref_aligned_corr'], \n",
    "                                                            fillvalue='_'):\n",
    "\n",
    "        if raw_seq != raw_ref and corr_seq != corr_ref and raw_seq != '_' and corr_seq != '_':\n",
    "            count[0, 0] += 1\n",
    "        elif raw_seq != raw_ref and corr_seq == corr_ref and raw_seq != '_' and corr_seq != '_':\n",
    "            count[0, 1] += 1\n",
    "        elif raw_seq != raw_ref and corr_seq == '_':\n",
    "            count[0, 2] += 1\n",
    "        elif raw_seq == raw_ref and corr_seq != corr_ref and raw_seq != '_' and corr_seq != '_':\n",
    "            count[1, 0] += 1\n",
    "        elif raw_seq == raw_ref and corr_seq == corr_ref and raw_seq != '_' and corr_seq != '_':\n",
    "            count[1, 1] += 1\n",
    "        elif raw_seq == raw_ref and corr_seq == '_':\n",
    "            count[1, 2] += 1\n",
    "        \n",
    "    return count"
   ]
  },
  {
   "cell_type": "markdown",
   "metadata": {},
   "source": [
    "# Тестовые данные"
   ]
  },
  {
   "cell_type": "code",
   "execution_count": 9,
   "metadata": {},
   "outputs": [],
   "source": [
    "ref = read_ref('MG1655-K12.first10K.fasta')\n",
    "raw_sam = read_raw_sam('ecoli_10K_err.sam')\n",
    "raw_sam_df = pd.DataFrame(raw_sam)\n",
    "raw_sam_df.set_index('read', inplace=True)"
   ]
  },
  {
   "cell_type": "markdown",
   "metadata": {},
   "source": [
    "## Spades"
   ]
  },
  {
   "cell_type": "code",
   "execution_count": 10,
   "metadata": {},
   "outputs": [],
   "source": [
    "spades_sam = read_spades_sam('ecoli_10K_spades_paired.sam', 'ecoli_10K_spades_unpaired.sam')"
   ]
  },
  {
   "cell_type": "code",
   "execution_count": 11,
   "metadata": {},
   "outputs": [],
   "source": [
    "spades_sam_df = pd.DataFrame(spades_sam)\n",
    "spades_sam_df.set_index('read', inplace=True)"
   ]
  },
  {
   "cell_type": "code",
   "execution_count": 12,
   "metadata": {},
   "outputs": [],
   "source": [
    "new_sam_df = raw_sam_df.merge(spades_sam_df, left_index=True, right_index=True, how='left', suffixes=('_raw', '_corr')).fillna('')\n",
    "new_sam = new_sam_df.to_dict(orient='records')"
   ]
  },
  {
   "cell_type": "code",
   "execution_count": 13,
   "metadata": {},
   "outputs": [],
   "source": [
    "with Pool() as p:\n",
    "    total_counts = np.zeros((2, 3), dtype=int)\n",
    "    for count in p.imap_unordered(count_row, new_sam, chunksize=1000):\n",
    "        total_counts += count"
   ]
  },
  {
   "cell_type": "code",
   "execution_count": 14,
   "metadata": {},
   "outputs": [],
   "source": [
    "del spades_sam\n",
    "del spades_sam_df\n",
    "del new_sam_df\n",
    "del new_sam"
   ]
  },
  {
   "cell_type": "code",
   "execution_count": 15,
   "metadata": {},
   "outputs": [],
   "source": [
    "total_counts_df = pd.DataFrame(total_counts, \n",
    "            columns=['Error in corrected reads', 'Correct base in corrected reads', 'Base is absent in corrected reads'],\n",
    "            index=['Error in raw data', 'Correct base in raw data'])"
   ]
  },
  {
   "cell_type": "markdown",
   "metadata": {},
   "source": [
    "**Абсолютные значения**"
   ]
  },
  {
   "cell_type": "code",
   "execution_count": 16,
   "metadata": {},
   "outputs": [
    {
     "data": {
      "text/html": [
       "<div>\n",
       "<style scoped>\n",
       "    .dataframe tbody tr th:only-of-type {\n",
       "        vertical-align: middle;\n",
       "    }\n",
       "\n",
       "    .dataframe tbody tr th {\n",
       "        vertical-align: top;\n",
       "    }\n",
       "\n",
       "    .dataframe thead th {\n",
       "        text-align: right;\n",
       "    }\n",
       "</style>\n",
       "<table border=\"1\" class=\"dataframe\">\n",
       "  <thead>\n",
       "    <tr style=\"text-align: right;\">\n",
       "      <th></th>\n",
       "      <th>Error in corrected reads</th>\n",
       "      <th>Correct base in corrected reads</th>\n",
       "      <th>Base is absent in corrected reads</th>\n",
       "    </tr>\n",
       "  </thead>\n",
       "  <tbody>\n",
       "    <tr>\n",
       "      <th>Error in raw data</th>\n",
       "      <td>2743</td>\n",
       "      <td>16306</td>\n",
       "      <td>33644</td>\n",
       "    </tr>\n",
       "    <tr>\n",
       "      <th>Correct base in raw data</th>\n",
       "      <td>16</td>\n",
       "      <td>5272564</td>\n",
       "      <td>595445</td>\n",
       "    </tr>\n",
       "  </tbody>\n",
       "</table>\n",
       "</div>"
      ],
      "text/plain": [
       "                          Error in corrected reads  \\\n",
       "Error in raw data                             2743   \n",
       "Correct base in raw data                        16   \n",
       "\n",
       "                          Correct base in corrected reads  \\\n",
       "Error in raw data                                   16306   \n",
       "Correct base in raw data                          5272564   \n",
       "\n",
       "                          Base is absent in corrected reads  \n",
       "Error in raw data                                     33644  \n",
       "Correct base in raw data                             595445  "
      ]
     },
     "execution_count": 16,
     "metadata": {},
     "output_type": "execute_result"
    }
   ],
   "source": [
    "total_counts_df"
   ]
  },
  {
   "cell_type": "markdown",
   "metadata": {},
   "source": [
    "**Проценты**"
   ]
  },
  {
   "cell_type": "code",
   "execution_count": 17,
   "metadata": {},
   "outputs": [
    {
     "data": {
      "text/html": [
       "<div>\n",
       "<style scoped>\n",
       "    .dataframe tbody tr th:only-of-type {\n",
       "        vertical-align: middle;\n",
       "    }\n",
       "\n",
       "    .dataframe tbody tr th {\n",
       "        vertical-align: top;\n",
       "    }\n",
       "\n",
       "    .dataframe thead th {\n",
       "        text-align: right;\n",
       "    }\n",
       "</style>\n",
       "<table border=\"1\" class=\"dataframe\">\n",
       "  <thead>\n",
       "    <tr style=\"text-align: right;\">\n",
       "      <th></th>\n",
       "      <th>Error in corrected reads</th>\n",
       "      <th>Correct base in corrected reads</th>\n",
       "      <th>Base is absent in corrected reads</th>\n",
       "    </tr>\n",
       "  </thead>\n",
       "  <tbody>\n",
       "    <tr>\n",
       "      <th>Error in raw data</th>\n",
       "      <td>0.046329</td>\n",
       "      <td>0.275406</td>\n",
       "      <td>0.568242</td>\n",
       "    </tr>\n",
       "    <tr>\n",
       "      <th>Correct base in raw data</th>\n",
       "      <td>0.000270</td>\n",
       "      <td>89.052780</td>\n",
       "      <td>10.056973</td>\n",
       "    </tr>\n",
       "  </tbody>\n",
       "</table>\n",
       "</div>"
      ],
      "text/plain": [
       "                          Error in corrected reads  \\\n",
       "Error in raw data                         0.046329   \n",
       "Correct base in raw data                  0.000270   \n",
       "\n",
       "                          Correct base in corrected reads  \\\n",
       "Error in raw data                                0.275406   \n",
       "Correct base in raw data                        89.052780   \n",
       "\n",
       "                          Base is absent in corrected reads  \n",
       "Error in raw data                                  0.568242  \n",
       "Correct base in raw data                          10.056973  "
      ]
     },
     "execution_count": 17,
     "metadata": {},
     "output_type": "execute_result"
    }
   ],
   "source": [
    "total_counts_df / total_counts.sum() * 100"
   ]
  },
  {
   "cell_type": "markdown",
   "metadata": {},
   "source": [
    "## Trimmomatic"
   ]
  },
  {
   "cell_type": "code",
   "execution_count": 18,
   "metadata": {},
   "outputs": [],
   "source": [
    "trimmomatic_sam = read_trimmomatic_sam('ecoli_10K_trimmomatic_paired.sam', \n",
    "                                       'ecoli_10K_trimmomatic_forward_unpaired.sam', \n",
    "                                       'ecoli_10K_trimmomatic_reverse_unpaired.sam')"
   ]
  },
  {
   "cell_type": "code",
   "execution_count": 19,
   "metadata": {},
   "outputs": [],
   "source": [
    "trimmomatic_sam_df = pd.DataFrame(trimmomatic_sam)\n",
    "trimmomatic_sam_df.set_index('read', inplace=True)"
   ]
  },
  {
   "cell_type": "code",
   "execution_count": 20,
   "metadata": {},
   "outputs": [],
   "source": [
    "new_sam_df = raw_sam_df.merge(trimmomatic_sam_df, left_index=True, right_index=True, how='left', suffixes=('_raw', '_corr')).fillna('')\n",
    "new_sam = new_sam_df.to_dict(orient='records')"
   ]
  },
  {
   "cell_type": "code",
   "execution_count": 21,
   "metadata": {},
   "outputs": [],
   "source": [
    "with Pool() as p:\n",
    "    total_counts = np.zeros((2, 3), dtype=int)\n",
    "    for count in p.imap_unordered(count_row, new_sam, chunksize=1000):\n",
    "        total_counts += count"
   ]
  },
  {
   "cell_type": "code",
   "execution_count": 22,
   "metadata": {},
   "outputs": [],
   "source": [
    "del trimmomatic_sam_df\n",
    "del trimmomatic_sam\n",
    "del new_sam_df\n",
    "del new_sam"
   ]
  },
  {
   "cell_type": "code",
   "execution_count": 23,
   "metadata": {},
   "outputs": [],
   "source": [
    "total_counts_df = pd.DataFrame(total_counts, \n",
    "            columns=['Error in corrected reads', 'Correct base in corrected reads', 'Base is absent in corrected reads'],\n",
    "            index=['Error in raw data', 'Correct base in raw data'])"
   ]
  },
  {
   "cell_type": "markdown",
   "metadata": {},
   "source": [
    "**Абсолютные значения**"
   ]
  },
  {
   "cell_type": "code",
   "execution_count": 24,
   "metadata": {},
   "outputs": [
    {
     "data": {
      "text/html": [
       "<div>\n",
       "<style scoped>\n",
       "    .dataframe tbody tr th:only-of-type {\n",
       "        vertical-align: middle;\n",
       "    }\n",
       "\n",
       "    .dataframe tbody tr th {\n",
       "        vertical-align: top;\n",
       "    }\n",
       "\n",
       "    .dataframe thead th {\n",
       "        text-align: right;\n",
       "    }\n",
       "</style>\n",
       "<table border=\"1\" class=\"dataframe\">\n",
       "  <thead>\n",
       "    <tr style=\"text-align: right;\">\n",
       "      <th></th>\n",
       "      <th>Error in corrected reads</th>\n",
       "      <th>Correct base in corrected reads</th>\n",
       "      <th>Base is absent in corrected reads</th>\n",
       "    </tr>\n",
       "  </thead>\n",
       "  <tbody>\n",
       "    <tr>\n",
       "      <th>Error in raw data</th>\n",
       "      <td>13839</td>\n",
       "      <td>15863</td>\n",
       "      <td>25145</td>\n",
       "    </tr>\n",
       "    <tr>\n",
       "      <th>Correct base in raw data</th>\n",
       "      <td>4113</td>\n",
       "      <td>5042099</td>\n",
       "      <td>753822</td>\n",
       "    </tr>\n",
       "  </tbody>\n",
       "</table>\n",
       "</div>"
      ],
      "text/plain": [
       "                          Error in corrected reads  \\\n",
       "Error in raw data                            13839   \n",
       "Correct base in raw data                      4113   \n",
       "\n",
       "                          Correct base in corrected reads  \\\n",
       "Error in raw data                                   15863   \n",
       "Correct base in raw data                          5042099   \n",
       "\n",
       "                          Base is absent in corrected reads  \n",
       "Error in raw data                                     25145  \n",
       "Correct base in raw data                             753822  "
      ]
     },
     "execution_count": 24,
     "metadata": {},
     "output_type": "execute_result"
    }
   ],
   "source": [
    "total_counts_df"
   ]
  },
  {
   "cell_type": "markdown",
   "metadata": {},
   "source": [
    "**Проценты**"
   ]
  },
  {
   "cell_type": "code",
   "execution_count": 25,
   "metadata": {},
   "outputs": [
    {
     "data": {
      "text/html": [
       "<div>\n",
       "<style scoped>\n",
       "    .dataframe tbody tr th:only-of-type {\n",
       "        vertical-align: middle;\n",
       "    }\n",
       "\n",
       "    .dataframe tbody tr th {\n",
       "        vertical-align: top;\n",
       "    }\n",
       "\n",
       "    .dataframe thead th {\n",
       "        text-align: right;\n",
       "    }\n",
       "</style>\n",
       "<table border=\"1\" class=\"dataframe\">\n",
       "  <thead>\n",
       "    <tr style=\"text-align: right;\">\n",
       "      <th></th>\n",
       "      <th>Error in corrected reads</th>\n",
       "      <th>Correct base in corrected reads</th>\n",
       "      <th>Base is absent in corrected reads</th>\n",
       "    </tr>\n",
       "  </thead>\n",
       "  <tbody>\n",
       "    <tr>\n",
       "      <th>Error in raw data</th>\n",
       "      <td>0.236367</td>\n",
       "      <td>0.270936</td>\n",
       "      <td>0.429471</td>\n",
       "    </tr>\n",
       "    <tr>\n",
       "      <th>Correct base in raw data</th>\n",
       "      <td>0.070249</td>\n",
       "      <td>86.117873</td>\n",
       "      <td>12.875104</td>\n",
       "    </tr>\n",
       "  </tbody>\n",
       "</table>\n",
       "</div>"
      ],
      "text/plain": [
       "                          Error in corrected reads  \\\n",
       "Error in raw data                         0.236367   \n",
       "Correct base in raw data                  0.070249   \n",
       "\n",
       "                          Correct base in corrected reads  \\\n",
       "Error in raw data                                0.270936   \n",
       "Correct base in raw data                        86.117873   \n",
       "\n",
       "                          Base is absent in corrected reads  \n",
       "Error in raw data                                  0.429471  \n",
       "Correct base in raw data                          12.875104  "
      ]
     },
     "execution_count": 25,
     "metadata": {},
     "output_type": "execute_result"
    }
   ],
   "source": [
    "total_counts_df / total_counts.sum() * 100"
   ]
  },
  {
   "cell_type": "markdown",
   "metadata": {},
   "source": [
    "# Целые данные"
   ]
  },
  {
   "cell_type": "code",
   "execution_count": 26,
   "metadata": {},
   "outputs": [],
   "source": [
    "ref = read_ref('MG1655-K12.first400K.fasta')\n",
    "raw_sam = read_raw_sam('ecoli_400K_err.sam')\n",
    "raw_sam_df = pd.DataFrame(raw_sam)\n",
    "raw_sam_df.set_index('read', inplace=True)"
   ]
  },
  {
   "cell_type": "markdown",
   "metadata": {},
   "source": [
    "## Spades"
   ]
  },
  {
   "cell_type": "code",
   "execution_count": 27,
   "metadata": {},
   "outputs": [],
   "source": [
    "spades_sam = read_spades_sam('ecoli_400K_spades_paired.sam', 'ecoli_400K_spades_unpaired.sam')\n",
    "\n",
    "spades_sam_df = pd.DataFrame(spades_sam)\n",
    "spades_sam_df.set_index('read', inplace=True)\n",
    "\n",
    "new_sam_df = raw_sam_df.merge(spades_sam_df, left_index=True, right_index=True, how='left', suffixes=('_raw', '_corr')).fillna('')\n",
    "new_sam = new_sam_df.to_dict(orient='records')\n",
    "\n",
    "with Pool() as p:\n",
    "    total_counts = np.zeros((2, 3), dtype=int)\n",
    "    for count in p.imap_unordered(count_row, new_sam, chunksize=1000):\n",
    "        total_counts += count\n",
    "\n",
    "del spades_sam\n",
    "del spades_sam_df\n",
    "del new_sam_df\n",
    "del new_sam\n",
    "\n",
    "total_counts_df = pd.DataFrame(total_counts, \n",
    "            columns=['Error in corrected reads', 'Correct base in corrected reads', 'Base is absent in corrected reads'],\n",
    "            index=['Error in raw data', 'Correct base in raw data'])"
   ]
  },
  {
   "cell_type": "markdown",
   "metadata": {},
   "source": [
    "**Абсолютные значения**"
   ]
  },
  {
   "cell_type": "code",
   "execution_count": 28,
   "metadata": {},
   "outputs": [
    {
     "data": {
      "text/html": [
       "<div>\n",
       "<style scoped>\n",
       "    .dataframe tbody tr th:only-of-type {\n",
       "        vertical-align: middle;\n",
       "    }\n",
       "\n",
       "    .dataframe tbody tr th {\n",
       "        vertical-align: top;\n",
       "    }\n",
       "\n",
       "    .dataframe thead th {\n",
       "        text-align: right;\n",
       "    }\n",
       "</style>\n",
       "<table border=\"1\" class=\"dataframe\">\n",
       "  <thead>\n",
       "    <tr style=\"text-align: right;\">\n",
       "      <th></th>\n",
       "      <th>Error in corrected reads</th>\n",
       "      <th>Correct base in corrected reads</th>\n",
       "      <th>Base is absent in corrected reads</th>\n",
       "    </tr>\n",
       "  </thead>\n",
       "  <tbody>\n",
       "    <tr>\n",
       "      <th>Error in raw data</th>\n",
       "      <td>210577</td>\n",
       "      <td>717353</td>\n",
       "      <td>1365708</td>\n",
       "    </tr>\n",
       "    <tr>\n",
       "      <th>Correct base in raw data</th>\n",
       "      <td>2186</td>\n",
       "      <td>250636102</td>\n",
       "      <td>23046499</td>\n",
       "    </tr>\n",
       "  </tbody>\n",
       "</table>\n",
       "</div>"
      ],
      "text/plain": [
       "                          Error in corrected reads  \\\n",
       "Error in raw data                           210577   \n",
       "Correct base in raw data                      2186   \n",
       "\n",
       "                          Correct base in corrected reads  \\\n",
       "Error in raw data                                  717353   \n",
       "Correct base in raw data                        250636102   \n",
       "\n",
       "                          Base is absent in corrected reads  \n",
       "Error in raw data                                   1365708  \n",
       "Correct base in raw data                           23046499  "
      ]
     },
     "execution_count": 28,
     "metadata": {},
     "output_type": "execute_result"
    }
   ],
   "source": [
    "total_counts_df"
   ]
  },
  {
   "cell_type": "markdown",
   "metadata": {},
   "source": [
    "**Проценты**"
   ]
  },
  {
   "cell_type": "code",
   "execution_count": 29,
   "metadata": {},
   "outputs": [
    {
     "data": {
      "text/html": [
       "<div>\n",
       "<style scoped>\n",
       "    .dataframe tbody tr th:only-of-type {\n",
       "        vertical-align: middle;\n",
       "    }\n",
       "\n",
       "    .dataframe tbody tr th {\n",
       "        vertical-align: top;\n",
       "    }\n",
       "\n",
       "    .dataframe thead th {\n",
       "        text-align: right;\n",
       "    }\n",
       "</style>\n",
       "<table border=\"1\" class=\"dataframe\">\n",
       "  <thead>\n",
       "    <tr style=\"text-align: right;\">\n",
       "      <th></th>\n",
       "      <th>Error in corrected reads</th>\n",
       "      <th>Correct base in corrected reads</th>\n",
       "      <th>Base is absent in corrected reads</th>\n",
       "    </tr>\n",
       "  </thead>\n",
       "  <tbody>\n",
       "    <tr>\n",
       "      <th>Error in raw data</th>\n",
       "      <td>0.076302</td>\n",
       "      <td>0.259931</td>\n",
       "      <td>0.494860</td>\n",
       "    </tr>\n",
       "    <tr>\n",
       "      <th>Correct base in raw data</th>\n",
       "      <td>0.000792</td>\n",
       "      <td>90.817281</td>\n",
       "      <td>8.350834</td>\n",
       "    </tr>\n",
       "  </tbody>\n",
       "</table>\n",
       "</div>"
      ],
      "text/plain": [
       "                          Error in corrected reads  \\\n",
       "Error in raw data                         0.076302   \n",
       "Correct base in raw data                  0.000792   \n",
       "\n",
       "                          Correct base in corrected reads  \\\n",
       "Error in raw data                                0.259931   \n",
       "Correct base in raw data                        90.817281   \n",
       "\n",
       "                          Base is absent in corrected reads  \n",
       "Error in raw data                                  0.494860  \n",
       "Correct base in raw data                           8.350834  "
      ]
     },
     "execution_count": 29,
     "metadata": {},
     "output_type": "execute_result"
    }
   ],
   "source": [
    "total_counts_df / total_counts.sum() * 100"
   ]
  },
  {
   "cell_type": "markdown",
   "metadata": {},
   "source": [
    "## Trimmomatic"
   ]
  },
  {
   "cell_type": "code",
   "execution_count": 30,
   "metadata": {},
   "outputs": [],
   "source": [
    "trimmomatic_sam = read_trimmomatic_sam('ecoli_400K_trimmomatic_paired.sam', \n",
    "                                       'ecoli_400K_trimmomatic_forward_unpaired.sam', \n",
    "                                       'ecoli_400K_trimmomatic_reverse_unpaired.sam')\n",
    "\n",
    "trimmomatic_sam_df = pd.DataFrame(trimmomatic_sam)\n",
    "trimmomatic_sam_df.set_index('read', inplace=True)\n",
    "\n",
    "new_sam_df = raw_sam_df.merge(trimmomatic_sam_df, left_index=True, right_index=True, how='left', suffixes=('_raw', '_corr')).fillna('')\n",
    "new_sam = new_sam_df.to_dict(orient='records')\n",
    "\n",
    "with Pool() as p:\n",
    "    counts = p.map(count_row, new_sam)\n",
    "\n",
    "del trimmomatic_sam_df\n",
    "del trimmomatic_sam\n",
    "del new_sam_df\n",
    "del new_sam\n",
    "\n",
    "total_counts = sum(counts)\n",
    "total_counts_df = pd.DataFrame(total_counts, \n",
    "            columns=['Error in corrected reads', 'Correct base in corrected reads', 'Base is absent in corrected reads'],\n",
    "            index=['Error in raw data', 'Correct base in raw data'])"
   ]
  },
  {
   "cell_type": "markdown",
   "metadata": {},
   "source": [
    "**Абсолютные значения**"
   ]
  },
  {
   "cell_type": "code",
   "execution_count": 31,
   "metadata": {},
   "outputs": [
    {
     "data": {
      "text/html": [
       "<div>\n",
       "<style scoped>\n",
       "    .dataframe tbody tr th:only-of-type {\n",
       "        vertical-align: middle;\n",
       "    }\n",
       "\n",
       "    .dataframe tbody tr th {\n",
       "        vertical-align: top;\n",
       "    }\n",
       "\n",
       "    .dataframe thead th {\n",
       "        text-align: right;\n",
       "    }\n",
       "</style>\n",
       "<table border=\"1\" class=\"dataframe\">\n",
       "  <thead>\n",
       "    <tr style=\"text-align: right;\">\n",
       "      <th></th>\n",
       "      <th>Error in corrected reads</th>\n",
       "      <th>Correct base in corrected reads</th>\n",
       "      <th>Base is absent in corrected reads</th>\n",
       "    </tr>\n",
       "  </thead>\n",
       "  <tbody>\n",
       "    <tr>\n",
       "      <th>Error in raw data</th>\n",
       "      <td>693737</td>\n",
       "      <td>698188</td>\n",
       "      <td>1012642</td>\n",
       "    </tr>\n",
       "    <tr>\n",
       "      <th>Correct base in raw data</th>\n",
       "      <td>200099</td>\n",
       "      <td>243532522</td>\n",
       "      <td>28018019</td>\n",
       "    </tr>\n",
       "  </tbody>\n",
       "</table>\n",
       "</div>"
      ],
      "text/plain": [
       "                          Error in corrected reads  \\\n",
       "Error in raw data                           693737   \n",
       "Correct base in raw data                    200099   \n",
       "\n",
       "                          Correct base in corrected reads  \\\n",
       "Error in raw data                                  698188   \n",
       "Correct base in raw data                        243532522   \n",
       "\n",
       "                          Base is absent in corrected reads  \n",
       "Error in raw data                                   1012642  \n",
       "Correct base in raw data                           28018019  "
      ]
     },
     "execution_count": 31,
     "metadata": {},
     "output_type": "execute_result"
    }
   ],
   "source": [
    "total_counts_df"
   ]
  },
  {
   "cell_type": "markdown",
   "metadata": {},
   "source": [
    "**Проценты**"
   ]
  },
  {
   "cell_type": "code",
   "execution_count": 32,
   "metadata": {},
   "outputs": [
    {
     "data": {
      "text/html": [
       "<div>\n",
       "<style scoped>\n",
       "    .dataframe tbody tr th:only-of-type {\n",
       "        vertical-align: middle;\n",
       "    }\n",
       "\n",
       "    .dataframe tbody tr th {\n",
       "        vertical-align: top;\n",
       "    }\n",
       "\n",
       "    .dataframe thead th {\n",
       "        text-align: right;\n",
       "    }\n",
       "</style>\n",
       "<table border=\"1\" class=\"dataframe\">\n",
       "  <thead>\n",
       "    <tr style=\"text-align: right;\">\n",
       "      <th></th>\n",
       "      <th>Error in corrected reads</th>\n",
       "      <th>Correct base in corrected reads</th>\n",
       "      <th>Base is absent in corrected reads</th>\n",
       "    </tr>\n",
       "  </thead>\n",
       "  <tbody>\n",
       "    <tr>\n",
       "      <th>Error in raw data</th>\n",
       "      <td>0.253045</td>\n",
       "      <td>0.254669</td>\n",
       "      <td>0.369368</td>\n",
       "    </tr>\n",
       "    <tr>\n",
       "      <th>Correct base in raw data</th>\n",
       "      <td>0.072987</td>\n",
       "      <td>88.830165</td>\n",
       "      <td>10.219765</td>\n",
       "    </tr>\n",
       "  </tbody>\n",
       "</table>\n",
       "</div>"
      ],
      "text/plain": [
       "                          Error in corrected reads  \\\n",
       "Error in raw data                         0.253045   \n",
       "Correct base in raw data                  0.072987   \n",
       "\n",
       "                          Correct base in corrected reads  \\\n",
       "Error in raw data                                0.254669   \n",
       "Correct base in raw data                        88.830165   \n",
       "\n",
       "                          Base is absent in corrected reads  \n",
       "Error in raw data                                  0.369368  \n",
       "Correct base in raw data                          10.219765  "
      ]
     },
     "execution_count": 32,
     "metadata": {},
     "output_type": "execute_result"
    }
   ],
   "source": [
    "total_counts_df / total_counts.sum() * 100"
   ]
  }
 ],
 "metadata": {
  "kernelspec": {
   "display_name": "Python 3",
   "language": "python",
   "name": "python3"
  },
  "language_info": {
   "codemirror_mode": {
    "name": "ipython",
    "version": 3
   },
   "file_extension": ".py",
   "mimetype": "text/x-python",
   "name": "python",
   "nbconvert_exporter": "python",
   "pygments_lexer": "ipython3",
   "version": "3.8.5"
  }
 },
 "nbformat": 4,
 "nbformat_minor": 4
}
