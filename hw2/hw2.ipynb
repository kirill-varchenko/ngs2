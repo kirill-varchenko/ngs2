{
 "cells": [
  {
   "cell_type": "code",
   "execution_count": 92,
   "metadata": {},
   "outputs": [],
   "source": [
    "import pandas as pd\n",
    "import numpy as np\n",
    "import matplotlib.pyplot as plt\n",
    "from collections import Counter, defaultdict\n",
    "import re\n",
    "from IPython.display import display \n",
    "from csv import QUOTE_NONE "
   ]
  },
  {
   "cell_type": "code",
   "execution_count": 2,
   "metadata": {},
   "outputs": [],
   "source": [
    "SAM_COL_NAMES = ['QNAME', 'FLAG', 'RNAME', 'POS', 'MAPQ', 'CIGAR', 'RNEXT', 'PNEXT', 'TLEN', 'SEQ', 'QUAL', 'TAGS']"
   ]
  },
  {
   "cell_type": "code",
   "execution_count": 160,
   "metadata": {},
   "outputs": [],
   "source": [
    "def read_data(ref_path, sam_path, skiprows=2):\n",
    "    ref = ''\n",
    "    with open(ref_path, 'r') as fi:\n",
    "        for line in fi:\n",
    "            if line[0] != '>':\n",
    "                ref += line.strip()\n",
    "    ref_len = len(ref)\n",
    "    \n",
    "    sam = pd.read_csv(sam_path, sep='\\t', skiprows=skiprows, quoting=QUOTE_NONE, names=SAM_COL_NAMES)\n",
    "    sam['seq_len'] = sam['SEQ'].apply(len)\n",
    "    return ref, ref_len, sam"
   ]
  },
  {
   "cell_type": "code",
   "execution_count": 72,
   "metadata": {},
   "outputs": [],
   "source": [
    "def qual(c, quality_offset=33):\n",
    "    return ord(c) - quality_offset"
   ]
  },
  {
   "cell_type": "code",
   "execution_count": 176,
   "metadata": {},
   "outputs": [],
   "source": [
    "def stats(L):\n",
    "    if isinstance(L, np.ndarray):\n",
    "        A = L\n",
    "    else:\n",
    "        A = np.array(L)\n",
    "        \n",
    "    if len(A) == 0:\n",
    "        print('(пусто)')\n",
    "        return\n",
    "\n",
    "    _mean = np.mean(A)\n",
    "    _std = np.std(A)\n",
    "    print(f'Среднее {_mean:.1f}')\n",
    "    print(f'Среднеквадратичное отклонение {_std:.1f}')\n",
    "    print(f'Минимум {np.min(A)}, максимум {np.max(A)}')\n",
    "    print(f'Интервал, в который попадает 95% [{_mean - 2*_std:.1f}, {_mean + 2*_std:.1f}]')"
   ]
  },
  {
   "cell_type": "code",
   "execution_count": 153,
   "metadata": {},
   "outputs": [],
   "source": [
    "def coverage(sam, ref_len):\n",
    "    cover = np.zeros(ref_len)\n",
    "    for i in sam.index:\n",
    "        if sam.loc[i, 'POS'] > 0:\n",
    "            for j in range(sam.loc[i, 'POS'], sam.loc[i, 'POS'] + sam.loc[i, 'seq_len']):\n",
    "                if j < ref_len:\n",
    "                    cover[j-1] += 1\n",
    "    cover_1000 = [np.mean(cover[i:i+1000]) for i in range(0, ref_len, 1000)]\n",
    "    \n",
    "    plt.plot(cover_1000)\n",
    "    plt.grid(alpha=0.75)\n",
    "    plt.xlabel('Reference position (thousands of nucleotides)')\n",
    "    plt.ylabel('Number of reads')\n",
    "    plt.title('Coverage')\n",
    "    plt.show()\n",
    "    \n",
    "    print(f'Среднее покрытие: {np.mean(cover):.1f}')\n",
    "    print(f'Доля покрытой области генома {sum(cover > 0)/ref_len*100:.1f}%')"
   ]
  },
  {
   "cell_type": "code",
   "execution_count": 168,
   "metadata": {},
   "outputs": [],
   "source": [
    "def inserts(sam, iq_range=0.98):\n",
    "    insert_sizes = abs(np.array(sam['TLEN']))\n",
    "    pcnt = (1 - iq_range)/2\n",
    "    insert_sizes = sam['TLEN'].apply(abs)\n",
    "    qlow, median, qhigh = insert_sizes.quantile([pcnt, 0.50, 1-pcnt])\n",
    "    iqr = qhigh - qlow\n",
    "    filtered = insert_sizes[ (insert_sizes - median).abs() <= iqr]\n",
    "    \n",
    "    plt.hist(filtered, bins=50, rwidth=0.85)\n",
    "    plt.grid(axis='y', alpha=0.75)\n",
    "    plt.xlabel('Insert sizes')\n",
    "    plt.ylabel('Number of reads')\n",
    "    plt.title('Insert sizes distribution')\n",
    "    plt.show()\n",
    "    \n",
    "    \n",
    "    print('Расстояние вставки')\n",
    "    stats(filtered)"
   ]
  },
  {
   "cell_type": "code",
   "execution_count": 184,
   "metadata": {},
   "outputs": [],
   "source": [
    "def errors(sam, ref):\n",
    "    errors_count = defaultdict(Counter)\n",
    "    indels = []\n",
    "    qual_mismatch = []\n",
    "    qual_insert = []\n",
    "    indels_n = 0\n",
    "    indels_poly = 0\n",
    "    \n",
    "    for n in sam.index:\n",
    "        pos = sam.loc[n, 'POS']\n",
    "        if pos == 0 or sam.loc[n, 'CIGAR'] == '*':\n",
    "            continue\n",
    "        \n",
    "        read_seq = sam.loc[n, 'SEQ']\n",
    "        read_qual = sam.loc[n, 'QUAL']\n",
    "        cigar = re.findall(r'(\\d+)([MIDNSHP=X])', sam.loc[n, 'CIGAR'])\n",
    "        seq_aligned = ''\n",
    "        \n",
    "        i = 0\n",
    "        j = 0\n",
    "        for cig_len, cig_ch in cigar:\n",
    "            if cig_ch in 'DI':\n",
    "                indels.append(int(cig_len))\n",
    "                \n",
    "            for _ in range(int(cig_len)):\n",
    "                if cig_ch == 'M':\n",
    "                    # match or mismatch\n",
    "                    seq_aligned += read_seq[i]\n",
    "                    ref_nuc = ref[pos + j - 1]\n",
    "                    read_nuc = read_seq[i]\n",
    "                    if ref_nuc != read_nuc:\n",
    "                        qual_mismatch.append(qual(read_qual[i]))\n",
    "                elif cig_ch == 'D':\n",
    "                    # deletion\n",
    "                    seq_aligned += '_'\n",
    "                    ref_nuc = ref[pos + j - 1]\n",
    "                    read_nuc = '_'\n",
    "                elif cig_ch == 'I':\n",
    "                    # insertion\n",
    "                    seq_aligned += '_'\n",
    "                    ref_nuc = '_'\n",
    "                    read_nuc = read_seq[i]\n",
    "                    qual_insert.append(qual(read_qual[i]))\n",
    "                \n",
    "                if cig_ch in 'MDI':\n",
    "                    errors_count[ref_nuc][read_nuc] += 1\n",
    "\n",
    "                if cig_ch not in 'DNHP':\n",
    "                    i += 1\n",
    "                if cig_ch not in 'ISHP':\n",
    "                    j += 1                \n",
    "        \n",
    "        poly_spans = [s.span() for s in re.finditer(r'([ATGC])\\1{4,}', seq_aligned)]\n",
    "        for i, c in enumerate(seq_aligned):\n",
    "            if c != '_':\n",
    "                continue\n",
    "            indels_n += 1\n",
    "            for a, b in poly_spans:\n",
    "                if i == b + 1 or i == a - 1:\n",
    "                    indels_poly += 1\n",
    "                    break\n",
    "            \n",
    "    errors_df = pd.DataFrame(errors_count).fillna(0)\n",
    "    \n",
    "    display(errors_df.div(errors_df.sum(axis=1), axis=0))\n",
    "    \n",
    "    total = errors_df.sum().sum()\n",
    "    true = sum([errors_count[i][i] for i in errors_count])\n",
    "    print(f'\\nСредний процент ошибок в ридах {(total-true)/total*100:.4f}%')\n",
    "    \n",
    "    print('\\nСтатистика длин инделов')\n",
    "    stats(indels)\n",
    "    \n",
    "    print('\\nСтатистика качества (замена)')\n",
    "    stats(qual_mismatch)\n",
    "    \n",
    "    print('\\nСтатистика качества (вставка)')\n",
    "    stats(qual_insert)\n",
    "    \n",
    "    if indels_n != 0:\n",
    "        print(f'\\nПроцент инделов, находящихся рядом с гомополимерными участками {indels_poly/indels_n*100:.1f}%')\n",
    "    "
   ]
  },
  {
   "cell_type": "markdown",
   "metadata": {},
   "source": [
    "**Часть 1: анализ ридов Illumina**"
   ]
  },
  {
   "cell_type": "markdown",
   "metadata": {},
   "source": [
    "# Тестовый датасет"
   ]
  },
  {
   "cell_type": "code",
   "execution_count": 168,
   "metadata": {},
   "outputs": [
    {
     "name": "stdout",
     "output_type": "stream",
     "text": [
      "56320 + 0 in total (QC-passed reads + QC-failed reads)\r\n",
      "0 + 0 secondary\r\n",
      "0 + 0 supplementary\r\n",
      "0 + 0 duplicates\r\n",
      "56320 + 0 mapped (100.00% : N/A)\r\n",
      "56320 + 0 paired in sequencing\r\n",
      "28160 + 0 read1\r\n",
      "28160 + 0 read2\r\n",
      "56280 + 0 properly paired (99.93% : N/A)\r\n",
      "56320 + 0 with itself and mate mapped\r\n",
      "0 + 0 singletons (0.00% : N/A)\r\n",
      "0 + 0 with mate mapped to a different chr\r\n",
      "0 + 0 with mate mapped to a different chr (mapQ>=5)\r\n"
     ]
    }
   ],
   "source": [
    "!samtools flagstat 2a/test/test.sam"
   ]
  },
  {
   "cell_type": "code",
   "execution_count": 185,
   "metadata": {},
   "outputs": [],
   "source": [
    "ref, ref_len, sam = read_data('2a/test/MG1655-K12.first10K.fasta', '2a/test/test.sam')"
   ]
  },
  {
   "cell_type": "markdown",
   "metadata": {},
   "source": [
    "## 1. Покрытие генома"
   ]
  },
  {
   "cell_type": "code",
   "execution_count": 186,
   "metadata": {},
   "outputs": [
    {
     "data": {
      "image/png": "[encoded data removed]",
      "text/plain": [
       "<Figure size 432x288 with 1 Axes>"
      ]
     },
     "metadata": {
      "needs_background": "light"
     },
     "output_type": "display_data"
    },
    {
     "name": "stdout",
     "output_type": "stream",
     "text": [
      "Среднее покрытие: 509.0\n",
      "Доля покрытой области генома 100.0%\n"
     ]
    }
   ],
   "source": [
    "coverage(sam, ref_len)"
   ]
  },
  {
   "cell_type": "markdown",
   "metadata": {},
   "source": [
    "# 2. Распределение расстояния вставки"
   ]
  },
  {
   "cell_type": "code",
   "execution_count": 187,
   "metadata": {},
   "outputs": [
    {
     "data": {
      "image/png": "[encoded data removed]",
      "text/plain": [
       "<Figure size 432x288 with 1 Axes>"
      ]
     },
     "metadata": {
      "needs_background": "light"
     },
     "output_type": "display_data"
    },
    {
     "name": "stdout",
     "output_type": "stream",
     "text": [
      "Расстояние вставки\n",
      "Среднее 215.4\n",
      "Среднеквадратичное отклонение 10.2\n",
      "Минимум 171, максимум 250\n",
      "Интервал, в который попадает 95% [195.0, 235.7]\n"
     ]
    }
   ],
   "source": [
    "inserts(sam)"
   ]
  },
  {
   "cell_type": "markdown",
   "metadata": {},
   "source": [
    "## 3. Частоты различных замен"
   ]
  },
  {
   "cell_type": "code",
   "execution_count": 188,
   "metadata": {},
   "outputs": [
    {
     "data": {
      "text/html": [
       "<div>\n",
       "<style scoped>\n",
       "    .dataframe tbody tr th:only-of-type {\n",
       "        vertical-align: middle;\n",
       "    }\n",
       "\n",
       "    .dataframe tbody tr th {\n",
       "        vertical-align: top;\n",
       "    }\n",
       "\n",
       "    .dataframe thead th {\n",
       "        text-align: right;\n",
       "    }\n",
       "</style>\n",
       "<table border=\"1\" class=\"dataframe\">\n",
       "  <thead>\n",
       "    <tr style=\"text-align: right;\">\n",
       "      <th></th>\n",
       "      <th>T</th>\n",
       "      <th>G</th>\n",
       "      <th>C</th>\n",
       "      <th>A</th>\n",
       "    </tr>\n",
       "  </thead>\n",
       "  <tbody>\n",
       "    <tr>\n",
       "      <th>T</th>\n",
       "      <td>0.999970</td>\n",
       "      <td>0.000029</td>\n",
       "      <td>8.448886e-07</td>\n",
       "      <td>8.448886e-07</td>\n",
       "    </tr>\n",
       "    <tr>\n",
       "      <th>G</th>\n",
       "      <td>0.000012</td>\n",
       "      <td>0.999973</td>\n",
       "      <td>1.463044e-06</td>\n",
       "      <td>1.389892e-05</td>\n",
       "    </tr>\n",
       "    <tr>\n",
       "      <th>C</th>\n",
       "      <td>0.000000</td>\n",
       "      <td>0.000017</td>\n",
       "      <td>9.999716e-01</td>\n",
       "      <td>1.184865e-05</td>\n",
       "    </tr>\n",
       "    <tr>\n",
       "      <th>A</th>\n",
       "      <td>0.000000</td>\n",
       "      <td>0.000000</td>\n",
       "      <td>0.000000e+00</td>\n",
       "      <td>1.000000e+00</td>\n",
       "    </tr>\n",
       "  </tbody>\n",
       "</table>\n",
       "</div>"
      ],
      "text/plain": [
       "          T         G             C             A\n",
       "T  0.999970  0.000029  8.448886e-07  8.448886e-07\n",
       "G  0.000012  0.999973  1.463044e-06  1.389892e-05\n",
       "C  0.000000  0.000017  9.999716e-01  1.184865e-05\n",
       "A  0.000000  0.000000  0.000000e+00  1.000000e+00"
      ]
     },
     "metadata": {},
     "output_type": "display_data"
    },
    {
     "name": "stdout",
     "output_type": "stream",
     "text": [
      "\n",
      "Средний процент ошибок в ридах 0.0021%\n",
      "\n",
      "Статистика длин инделов\n",
      "(пусто)\n",
      "\n",
      "Статистика качества (замена)\n",
      "Среднее 18.2\n",
      "Среднеквадратичное отклонение 8.6\n",
      "Минимум 2, максимум 35\n",
      "Интервал, в который попадает 95% [1.0, 35.4]\n",
      "\n",
      "Статистика качества (вставка)\n",
      "(пусто)\n"
     ]
    }
   ],
   "source": [
    "errors(sam, ref)"
   ]
  },
  {
   "cell_type": "markdown",
   "metadata": {},
   "source": [
    "# Датасет 100x"
   ]
  },
  {
   "cell_type": "code",
   "execution_count": 178,
   "metadata": {},
   "outputs": [
    {
     "name": "stdout",
     "output_type": "stream",
     "text": [
      "5000581 + 0 in total (QC-passed reads + QC-failed reads)\r\n",
      "0 + 0 secondary\r\n",
      "581 + 0 supplementary\r\n",
      "0 + 0 duplicates\r\n",
      "4991553 + 0 mapped (99.82% : N/A)\r\n",
      "5000000 + 0 paired in sequencing\r\n",
      "2500000 + 0 read1\r\n",
      "2500000 + 0 read2\r\n",
      "4978334 + 0 properly paired (99.57% : N/A)\r\n",
      "4983734 + 0 with itself and mate mapped\r\n",
      "7238 + 0 singletons (0.14% : N/A)\r\n",
      "0 + 0 with mate mapped to a different chr\r\n",
      "0 + 0 with mate mapped to a different chr (mapQ>=5)\r\n"
     ]
    }
   ],
   "source": [
    "!samtools flagstat 2a/E.coli/100x.sam"
   ]
  },
  {
   "cell_type": "code",
   "execution_count": 189,
   "metadata": {},
   "outputs": [],
   "source": [
    "ref, ref_len, sam = read_data('2a/E.coli/MG1655-K12.fasta', '2a/E.coli/100x.sam')"
   ]
  },
  {
   "cell_type": "markdown",
   "metadata": {},
   "source": [
    "## 1. Покрытие генома"
   ]
  },
  {
   "cell_type": "code",
   "execution_count": 190,
   "metadata": {},
   "outputs": [
    {
     "data": {
      "image/png": "[encoded data removed]",
      "text/plain": [
       "<Figure size 432x288 with 1 Axes>"
      ]
     },
     "metadata": {
      "needs_background": "light"
     },
     "output_type": "display_data"
    },
    {
     "name": "stdout",
     "output_type": "stream",
     "text": [
      "Среднее покрытие: 107.7\n",
      "Доля покрытой области генома 100.0%\n"
     ]
    }
   ],
   "source": [
    "coverage(sam, ref_len)"
   ]
  },
  {
   "cell_type": "markdown",
   "metadata": {},
   "source": [
    "# 2. Распределение расстояния вставки"
   ]
  },
  {
   "cell_type": "code",
   "execution_count": 191,
   "metadata": {},
   "outputs": [
    {
     "data": {
      "image/png": "[encoded data removed]",
      "text/plain": [
       "<Figure size 432x288 with 1 Axes>"
      ]
     },
     "metadata": {
      "needs_background": "light"
     },
     "output_type": "display_data"
    },
    {
     "name": "stdout",
     "output_type": "stream",
     "text": [
      "Расстояние вставки\n",
      "Среднее 215.4\n",
      "Среднеквадратичное отклонение 10.2\n",
      "Минимум 168, максимум 261\n",
      "Интервал, в который попадает 95% [195.0, 235.8]\n"
     ]
    }
   ],
   "source": [
    "inserts(sam)"
   ]
  },
  {
   "cell_type": "markdown",
   "metadata": {},
   "source": [
    "## 3. Частоты различных замен"
   ]
  },
  {
   "cell_type": "code",
   "execution_count": 192,
   "metadata": {},
   "outputs": [
    {
     "data": {
      "text/html": [
       "<div>\n",
       "<style scoped>\n",
       "    .dataframe tbody tr th:only-of-type {\n",
       "        vertical-align: middle;\n",
       "    }\n",
       "\n",
       "    .dataframe tbody tr th {\n",
       "        vertical-align: top;\n",
       "    }\n",
       "\n",
       "    .dataframe thead th {\n",
       "        text-align: right;\n",
       "    }\n",
       "</style>\n",
       "<table border=\"1\" class=\"dataframe\">\n",
       "  <thead>\n",
       "    <tr style=\"text-align: right;\">\n",
       "      <th></th>\n",
       "      <th>C</th>\n",
       "      <th>A</th>\n",
       "      <th>T</th>\n",
       "      <th>G</th>\n",
       "      <th>_</th>\n",
       "    </tr>\n",
       "  </thead>\n",
       "  <tbody>\n",
       "    <tr>\n",
       "      <th>C</th>\n",
       "      <td>0.989803</td>\n",
       "      <td>0.005152</td>\n",
       "      <td>0.003068</td>\n",
       "      <td>0.001950</td>\n",
       "      <td>0.000026</td>\n",
       "    </tr>\n",
       "    <tr>\n",
       "      <th>N</th>\n",
       "      <td>0.249759</td>\n",
       "      <td>0.250346</td>\n",
       "      <td>0.249252</td>\n",
       "      <td>0.250533</td>\n",
       "      <td>0.000110</td>\n",
       "    </tr>\n",
       "    <tr>\n",
       "      <th>G</th>\n",
       "      <td>0.001945</td>\n",
       "      <td>0.003084</td>\n",
       "      <td>0.005162</td>\n",
       "      <td>0.989781</td>\n",
       "      <td>0.000028</td>\n",
       "    </tr>\n",
       "    <tr>\n",
       "      <th>A</th>\n",
       "      <td>0.002264</td>\n",
       "      <td>0.995186</td>\n",
       "      <td>0.001215</td>\n",
       "      <td>0.001321</td>\n",
       "      <td>0.000014</td>\n",
       "    </tr>\n",
       "    <tr>\n",
       "      <th>T</th>\n",
       "      <td>0.001313</td>\n",
       "      <td>0.001212</td>\n",
       "      <td>0.995188</td>\n",
       "      <td>0.002273</td>\n",
       "      <td>0.000014</td>\n",
       "    </tr>\n",
       "    <tr>\n",
       "      <th>_</th>\n",
       "      <td>0.225941</td>\n",
       "      <td>0.277672</td>\n",
       "      <td>0.254469</td>\n",
       "      <td>0.241917</td>\n",
       "      <td>0.000000</td>\n",
       "    </tr>\n",
       "  </tbody>\n",
       "</table>\n",
       "</div>"
      ],
      "text/plain": [
       "          C         A         T         G         _\n",
       "C  0.989803  0.005152  0.003068  0.001950  0.000026\n",
       "N  0.249759  0.250346  0.249252  0.250533  0.000110\n",
       "G  0.001945  0.003084  0.005162  0.989781  0.000028\n",
       "A  0.002264  0.995186  0.001215  0.001321  0.000014\n",
       "T  0.001313  0.001212  0.995188  0.002273  0.000014\n",
       "_  0.225941  0.277672  0.254469  0.241917  0.000000"
      ]
     },
     "metadata": {},
     "output_type": "display_data"
    },
    {
     "name": "stdout",
     "output_type": "stream",
     "text": [
      "\n",
      "Средний процент ошибок в ридах 0.8242%\n",
      "\n",
      "Статистика длин инделов\n",
      "Среднее 1.2\n",
      "Среднеквадратичное отклонение 0.8\n",
      "Минимум 1, максимум 24\n",
      "Интервал, в который попадает 95% [-0.4, 2.7]\n",
      "\n",
      "Статистика качества (замена)\n",
      "Среднее 6.5\n",
      "Среднеквадратичное отклонение 7.0\n",
      "Минимум 2, максимум 41\n",
      "Интервал, в который попадает 95% [-7.5, 20.5]\n",
      "\n",
      "Статистика качества (вставка)\n",
      "Среднее 7.2\n",
      "Среднеквадратичное отклонение 11.1\n",
      "Минимум 2, максимум 40\n",
      "Интервал, в который попадает 95% [-15.0, 29.4]\n",
      "\n",
      "Процент инделов, находящихся рядом с гомополимерными участками 5.2%\n"
     ]
    }
   ],
   "source": [
    "errors(sam, ref)"
   ]
  },
  {
   "cell_type": "markdown",
   "metadata": {},
   "source": [
    "# Датасет ecoli_mda_lane1"
   ]
  },
  {
   "cell_type": "code",
   "execution_count": 40,
   "metadata": {},
   "outputs": [
    {
     "name": "stdout",
     "output_type": "stream",
     "text": [
      "5869326 + 0 in total (QC-passed reads + QC-failed reads)\r\n",
      "0 + 0 secondary\r\n",
      "40560 + 0 supplementary\r\n",
      "0 + 0 duplicates\r\n",
      "5706946 + 0 mapped (97.23% : N/A)\r\n",
      "5828766 + 0 paired in sequencing\r\n",
      "2914383 + 0 read1\r\n",
      "2914383 + 0 read2\r\n",
      "5151500 + 0 properly paired (88.38% : N/A)\r\n",
      "5647486 + 0 with itself and mate mapped\r\n",
      "18900 + 0 singletons (0.32% : N/A)\r\n",
      "0 + 0 with mate mapped to a different chr\r\n",
      "0 + 0 with mate mapped to a different chr (mapQ>=5)\r\n"
     ]
    }
   ],
   "source": [
    "!samtools flagstat 2a/E.coli/ecoli_mda_lane1_downsampled.sam"
   ]
  },
  {
   "cell_type": "code",
   "execution_count": 193,
   "metadata": {},
   "outputs": [],
   "source": [
    "ref, ref_len, sam = read_data('2a/E.coli/MG1655-K12.fasta', '2a/E.coli/ecoli_mda_lane1_downsampled.sam')"
   ]
  },
  {
   "cell_type": "markdown",
   "metadata": {},
   "source": [
    "## 1. Покрытие генома"
   ]
  },
  {
   "cell_type": "code",
   "execution_count": 194,
   "metadata": {},
   "outputs": [
    {
     "data": {
      "image/png": "[encoded data removed]",
      "text/plain": [
       "<Figure size 432x288 with 1 Axes>"
      ]
     },
     "metadata": {
      "needs_background": "light"
     },
     "output_type": "display_data"
    },
    {
     "name": "stdout",
     "output_type": "stream",
     "text": [
      "Среднее покрытие: 122.9\n",
      "Доля покрытой области генома 96.6%\n"
     ]
    }
   ],
   "source": [
    "coverage(sam, ref_len)"
   ]
  },
  {
   "cell_type": "markdown",
   "metadata": {},
   "source": [
    "## 2. Распределение расстояния вставки"
   ]
  },
  {
   "cell_type": "code",
   "execution_count": 195,
   "metadata": {},
   "outputs": [
    {
     "data": {
      "image/png": "[encoded data removed]",
      "text/plain": [
       "<Figure size 432x288 with 1 Axes>"
      ]
     },
     "metadata": {
      "needs_background": "light"
     },
     "output_type": "display_data"
    },
    {
     "name": "stdout",
     "output_type": "stream",
     "text": [
      "Расстояние вставки\n",
      "Среднее 258.9\n",
      "Среднеквадратичное отклонение 66.5\n",
      "Минимум 33, максимум 529\n",
      "Интервал, в который попадает 95% [126.0, 391.8]\n"
     ]
    }
   ],
   "source": [
    "inserts(sam, 0.9)"
   ]
  },
  {
   "cell_type": "markdown",
   "metadata": {},
   "source": [
    "## 3. Частоты различных замен"
   ]
  },
  {
   "cell_type": "code",
   "execution_count": 196,
   "metadata": {},
   "outputs": [
    {
     "data": {
      "text/html": [
       "<div>\n",
       "<style scoped>\n",
       "    .dataframe tbody tr th:only-of-type {\n",
       "        vertical-align: middle;\n",
       "    }\n",
       "\n",
       "    .dataframe tbody tr th {\n",
       "        vertical-align: top;\n",
       "    }\n",
       "\n",
       "    .dataframe thead th {\n",
       "        text-align: right;\n",
       "    }\n",
       "</style>\n",
       "<table border=\"1\" class=\"dataframe\">\n",
       "  <thead>\n",
       "    <tr style=\"text-align: right;\">\n",
       "      <th></th>\n",
       "      <th>T</th>\n",
       "      <th>G</th>\n",
       "      <th>A</th>\n",
       "      <th>C</th>\n",
       "      <th>_</th>\n",
       "    </tr>\n",
       "  </thead>\n",
       "  <tbody>\n",
       "    <tr>\n",
       "      <th>N</th>\n",
       "      <td>0.252287</td>\n",
       "      <td>0.245148</td>\n",
       "      <td>0.255149</td>\n",
       "      <td>0.247251</td>\n",
       "      <td>0.000165</td>\n",
       "    </tr>\n",
       "    <tr>\n",
       "      <th>T</th>\n",
       "      <td>0.995515</td>\n",
       "      <td>0.001996</td>\n",
       "      <td>0.001212</td>\n",
       "      <td>0.001258</td>\n",
       "      <td>0.000019</td>\n",
       "    </tr>\n",
       "    <tr>\n",
       "      <th>C</th>\n",
       "      <td>0.002764</td>\n",
       "      <td>0.001618</td>\n",
       "      <td>0.004467</td>\n",
       "      <td>0.991124</td>\n",
       "      <td>0.000027</td>\n",
       "    </tr>\n",
       "    <tr>\n",
       "      <th>G</th>\n",
       "      <td>0.004456</td>\n",
       "      <td>0.991124</td>\n",
       "      <td>0.002783</td>\n",
       "      <td>0.001615</td>\n",
       "      <td>0.000022</td>\n",
       "    </tr>\n",
       "    <tr>\n",
       "      <th>A</th>\n",
       "      <td>0.001214</td>\n",
       "      <td>0.001249</td>\n",
       "      <td>0.995508</td>\n",
       "      <td>0.002011</td>\n",
       "      <td>0.000018</td>\n",
       "    </tr>\n",
       "    <tr>\n",
       "      <th>_</th>\n",
       "      <td>0.276247</td>\n",
       "      <td>0.220030</td>\n",
       "      <td>0.279474</td>\n",
       "      <td>0.224249</td>\n",
       "      <td>0.000000</td>\n",
       "    </tr>\n",
       "  </tbody>\n",
       "</table>\n",
       "</div>"
      ],
      "text/plain": [
       "          T         G         A         C         _\n",
       "N  0.252287  0.245148  0.255149  0.247251  0.000165\n",
       "T  0.995515  0.001996  0.001212  0.001258  0.000019\n",
       "C  0.002764  0.001618  0.004467  0.991124  0.000027\n",
       "G  0.004456  0.991124  0.002783  0.001615  0.000022\n",
       "A  0.001214  0.001249  0.995508  0.002011  0.000018\n",
       "_  0.276247  0.220030  0.279474  0.224249  0.000000"
      ]
     },
     "metadata": {},
     "output_type": "display_data"
    },
    {
     "name": "stdout",
     "output_type": "stream",
     "text": [
      "\n",
      "Средний процент ошибок в ридах 0.8110%\n",
      "\n",
      "Статистика длин инделов\n",
      "Среднее 1.2\n",
      "Среднеквадратичное отклонение 0.8\n",
      "Минимум 1, максимум 34\n",
      "Интервал, в который попадает 95% [-0.5, 2.8]\n",
      "\n",
      "Статистика качества (замена)\n",
      "Среднее 35.5\n",
      "Среднеквадратичное отклонение 5.8\n",
      "Минимум 33, максимум 65\n",
      "Интервал, в который попадает 95% [23.9, 47.1]\n",
      "\n",
      "Статистика качества (вставка)\n",
      "Среднее 46.2\n",
      "Среднеквадратичное отклонение 13.6\n",
      "Минимум 33, максимум 65\n",
      "Интервал, в который попадает 95% [19.0, 73.4]\n",
      "\n",
      "Процент инделов, находящихся рядом с гомополимерными участками 28.7%\n"
     ]
    }
   ],
   "source": [
    "errors(sam, ref)"
   ]
  },
  {
   "cell_type": "markdown",
   "metadata": {},
   "source": [
    "**Часть 2: анализ ридов IonTorrent**"
   ]
  },
  {
   "cell_type": "markdown",
   "metadata": {},
   "source": [
    "# Датасет B22-730"
   ]
  },
  {
   "cell_type": "code",
   "execution_count": 197,
   "metadata": {},
   "outputs": [
    {
     "name": "stdout",
     "output_type": "stream",
     "text": [
      "497384 + 0 in total (QC-passed reads + QC-failed reads)\r\n",
      "0 + 0 secondary\r\n",
      "2463 + 0 supplementary\r\n",
      "0 + 0 duplicates\r\n",
      "489459 + 0 mapped (98.41% : N/A)\r\n",
      "0 + 0 paired in sequencing\r\n",
      "0 + 0 read1\r\n",
      "0 + 0 read2\r\n",
      "0 + 0 properly paired (N/A : N/A)\r\n",
      "0 + 0 with itself and mate mapped\r\n",
      "0 + 0 singletons (N/A : N/A)\r\n",
      "0 + 0 with mate mapped to a different chr\r\n",
      "0 + 0 with mate mapped to a different chr (mapQ>=5)\r\n"
     ]
    }
   ],
   "source": [
    "!samtools flagstat 2b/B22-730.sam"
   ]
  },
  {
   "cell_type": "code",
   "execution_count": 198,
   "metadata": {},
   "outputs": [],
   "source": [
    "ref, ref_len, sam = read_data('2b/DH10B-K12.fasta', '2b/B22-730.sam')"
   ]
  },
  {
   "cell_type": "markdown",
   "metadata": {},
   "source": [
    "## 1. Покрытие генома"
   ]
  },
  {
   "cell_type": "code",
   "execution_count": 199,
   "metadata": {},
   "outputs": [
    {
     "data": {
      "image/png": "[encoded data removed]",
      "text/plain": [
       "<Figure size 432x288 with 1 Axes>"
      ]
     },
     "metadata": {
      "needs_background": "light"
     },
     "output_type": "display_data"
    },
    {
     "name": "stdout",
     "output_type": "stream",
     "text": [
      "Среднее покрытие: 34.4\n",
      "Доля покрытой области генома 100.0%\n"
     ]
    }
   ],
   "source": [
    "coverage(sam, ref_len)"
   ]
  },
  {
   "cell_type": "markdown",
   "metadata": {},
   "source": [
    "## 2. Статистика и ошибки"
   ]
  },
  {
   "cell_type": "code",
   "execution_count": 200,
   "metadata": {},
   "outputs": [
    {
     "data": {
      "text/html": [
       "<div>\n",
       "<style scoped>\n",
       "    .dataframe tbody tr th:only-of-type {\n",
       "        vertical-align: middle;\n",
       "    }\n",
       "\n",
       "    .dataframe tbody tr th {\n",
       "        vertical-align: top;\n",
       "    }\n",
       "\n",
       "    .dataframe thead th {\n",
       "        text-align: right;\n",
       "    }\n",
       "</style>\n",
       "<table border=\"1\" class=\"dataframe\">\n",
       "  <thead>\n",
       "    <tr style=\"text-align: right;\">\n",
       "      <th></th>\n",
       "      <th>A</th>\n",
       "      <th>G</th>\n",
       "      <th>C</th>\n",
       "      <th>T</th>\n",
       "      <th>_</th>\n",
       "    </tr>\n",
       "  </thead>\n",
       "  <tbody>\n",
       "    <tr>\n",
       "      <th>A</th>\n",
       "      <td>0.994483</td>\n",
       "      <td>0.000428</td>\n",
       "      <td>0.000257</td>\n",
       "      <td>0.000281</td>\n",
       "      <td>0.004551</td>\n",
       "    </tr>\n",
       "    <tr>\n",
       "      <th>_</th>\n",
       "      <td>0.310631</td>\n",
       "      <td>0.189639</td>\n",
       "      <td>0.188792</td>\n",
       "      <td>0.310938</td>\n",
       "      <td>0.000000</td>\n",
       "    </tr>\n",
       "    <tr>\n",
       "      <th>G</th>\n",
       "      <td>0.000599</td>\n",
       "      <td>0.996964</td>\n",
       "      <td>0.000205</td>\n",
       "      <td>0.000229</td>\n",
       "      <td>0.002004</td>\n",
       "    </tr>\n",
       "    <tr>\n",
       "      <th>C</th>\n",
       "      <td>0.000231</td>\n",
       "      <td>0.000182</td>\n",
       "      <td>0.996973</td>\n",
       "      <td>0.000618</td>\n",
       "      <td>0.001996</td>\n",
       "    </tr>\n",
       "    <tr>\n",
       "      <th>T</th>\n",
       "      <td>0.000278</td>\n",
       "      <td>0.000263</td>\n",
       "      <td>0.000414</td>\n",
       "      <td>0.994459</td>\n",
       "      <td>0.004586</td>\n",
       "    </tr>\n",
       "  </tbody>\n",
       "</table>\n",
       "</div>"
      ],
      "text/plain": [
       "          A         G         C         T         _\n",
       "A  0.994483  0.000428  0.000257  0.000281  0.004551\n",
       "_  0.310631  0.189639  0.188792  0.310938  0.000000\n",
       "G  0.000599  0.996964  0.000205  0.000229  0.002004\n",
       "C  0.000231  0.000182  0.996973  0.000618  0.001996\n",
       "T  0.000278  0.000263  0.000414  0.994459  0.004586"
      ]
     },
     "metadata": {},
     "output_type": "display_data"
    },
    {
     "name": "stdout",
     "output_type": "stream",
     "text": [
      "\n",
      "Средний процент ошибок в ридах 0.6680%\n",
      "\n",
      "Статистика длин инделов\n",
      "Среднее 1.1\n",
      "Среднеквадратичное отклонение 0.4\n",
      "Минимум 1, максимум 24\n",
      "Интервал, в который попадает 95% [0.3, 1.9]\n",
      "\n",
      "Статистика качества (замена)\n",
      "Среднее 19.1\n",
      "Среднеквадратичное отклонение 8.0\n",
      "Минимум 1, максимум 45\n",
      "Интервал, в который попадает 95% [3.1, 35.2]\n",
      "\n",
      "Статистика качества (вставка)\n",
      "Среднее 16.1\n",
      "Среднеквадратичное отклонение 5.9\n",
      "Минимум 1, максимум 45\n",
      "Интервал, в который попадает 95% [4.3, 27.8]\n",
      "\n",
      "Процент инделов, находящихся рядом с гомополимерными участками 9.1%\n"
     ]
    }
   ],
   "source": [
    "errors(sam, ref)"
   ]
  },
  {
   "cell_type": "markdown",
   "metadata": {},
   "source": [
    "# Датасет C24-698"
   ]
  },
  {
   "cell_type": "code",
   "execution_count": 201,
   "metadata": {},
   "outputs": [
    {
     "name": "stdout",
     "output_type": "stream",
     "text": [
      "686667 + 0 in total (QC-passed reads + QC-failed reads)\r\n",
      "0 + 0 secondary\r\n",
      "1261 + 0 supplementary\r\n",
      "0 + 0 duplicates\r\n",
      "682638 + 0 mapped (99.41% : N/A)\r\n",
      "0 + 0 paired in sequencing\r\n",
      "0 + 0 read1\r\n",
      "0 + 0 read2\r\n",
      "0 + 0 properly paired (N/A : N/A)\r\n",
      "0 + 0 with itself and mate mapped\r\n",
      "0 + 0 singletons (N/A : N/A)\r\n",
      "0 + 0 with mate mapped to a different chr\r\n",
      "0 + 0 with mate mapped to a different chr (mapQ>=5)\r\n"
     ]
    }
   ],
   "source": [
    "!samtools flagstat 2b/C24-698.sam"
   ]
  },
  {
   "cell_type": "code",
   "execution_count": 202,
   "metadata": {},
   "outputs": [],
   "source": [
    "ref, ref_len, sam = read_data('2b/DH10B-K12.fasta', '2b/C24-698.sam')"
   ]
  },
  {
   "cell_type": "markdown",
   "metadata": {},
   "source": [
    "## 1. Покрытие генома"
   ]
  },
  {
   "cell_type": "code",
   "execution_count": 203,
   "metadata": {},
   "outputs": [
    {
     "data": {
      "image/png": "[encoded data removed]",
      "text/plain": [
       "<Figure size 432x288 with 1 Axes>"
      ]
     },
     "metadata": {
      "needs_background": "light"
     },
     "output_type": "display_data"
    },
    {
     "name": "stdout",
     "output_type": "stream",
     "text": [
      "Среднее покрытие: 35.8\n",
      "Доля покрытой области генома 100.0%\n"
     ]
    }
   ],
   "source": [
    "coverage(sam, ref_len)"
   ]
  },
  {
   "cell_type": "markdown",
   "metadata": {},
   "source": [
    "## 2. Статистика и ошибки"
   ]
  },
  {
   "cell_type": "code",
   "execution_count": 204,
   "metadata": {},
   "outputs": [
    {
     "data": {
      "text/html": [
       "<div>\n",
       "<style scoped>\n",
       "    .dataframe tbody tr th:only-of-type {\n",
       "        vertical-align: middle;\n",
       "    }\n",
       "\n",
       "    .dataframe tbody tr th {\n",
       "        vertical-align: top;\n",
       "    }\n",
       "\n",
       "    .dataframe thead th {\n",
       "        text-align: right;\n",
       "    }\n",
       "</style>\n",
       "<table border=\"1\" class=\"dataframe\">\n",
       "  <thead>\n",
       "    <tr style=\"text-align: right;\">\n",
       "      <th></th>\n",
       "      <th>A</th>\n",
       "      <th>G</th>\n",
       "      <th>C</th>\n",
       "      <th>T</th>\n",
       "      <th>_</th>\n",
       "    </tr>\n",
       "  </thead>\n",
       "  <tbody>\n",
       "    <tr>\n",
       "      <th>A</th>\n",
       "      <td>0.997410</td>\n",
       "      <td>0.000341</td>\n",
       "      <td>0.000161</td>\n",
       "      <td>0.000157</td>\n",
       "      <td>0.001931</td>\n",
       "    </tr>\n",
       "    <tr>\n",
       "      <th>_</th>\n",
       "      <td>0.155514</td>\n",
       "      <td>0.343402</td>\n",
       "      <td>0.343360</td>\n",
       "      <td>0.157725</td>\n",
       "      <td>0.000000</td>\n",
       "    </tr>\n",
       "    <tr>\n",
       "      <th>G</th>\n",
       "      <td>0.000525</td>\n",
       "      <td>0.998105</td>\n",
       "      <td>0.000129</td>\n",
       "      <td>0.000126</td>\n",
       "      <td>0.001116</td>\n",
       "    </tr>\n",
       "    <tr>\n",
       "      <th>T</th>\n",
       "      <td>0.000155</td>\n",
       "      <td>0.000169</td>\n",
       "      <td>0.000334</td>\n",
       "      <td>0.997393</td>\n",
       "      <td>0.001948</td>\n",
       "    </tr>\n",
       "    <tr>\n",
       "      <th>C</th>\n",
       "      <td>0.000122</td>\n",
       "      <td>0.000119</td>\n",
       "      <td>0.998087</td>\n",
       "      <td>0.000536</td>\n",
       "      <td>0.001136</td>\n",
       "    </tr>\n",
       "  </tbody>\n",
       "</table>\n",
       "</div>"
      ],
      "text/plain": [
       "          A         G         C         T         _\n",
       "A  0.997410  0.000341  0.000161  0.000157  0.001931\n",
       "_  0.155514  0.343402  0.343360  0.157725  0.000000\n",
       "G  0.000525  0.998105  0.000129  0.000126  0.001116\n",
       "T  0.000155  0.000169  0.000334  0.997393  0.001948\n",
       "C  0.000122  0.000119  0.998087  0.000536  0.001136"
      ]
     },
     "metadata": {},
     "output_type": "display_data"
    },
    {
     "name": "stdout",
     "output_type": "stream",
     "text": [
      "\n",
      "Средний процент ошибок в ридах 0.3675%\n",
      "\n",
      "Статистика длин инделов\n",
      "Среднее 1.1\n",
      "Среднеквадратичное отклонение 0.3\n",
      "Минимум 1, максимум 26\n",
      "Интервал, в который попадает 95% [0.4, 1.7]\n",
      "\n",
      "Статистика качества (замена)\n",
      "Среднее 21.0\n",
      "Среднеквадратичное отклонение 8.6\n",
      "Минимум 1, максимум 45\n",
      "Интервал, в который попадает 95% [3.9, 38.2]\n",
      "\n",
      "Статистика качества (вставка)\n",
      "Среднее 15.4\n",
      "Среднеквадратичное отклонение 5.1\n",
      "Минимум 1, максимум 45\n",
      "Интервал, в который попадает 95% [5.3, 25.5]\n",
      "\n",
      "Процент инделов, находящихся рядом с гомополимерными участками 5.0%\n"
     ]
    }
   ],
   "source": [
    "errors(sam, ref)"
   ]
  }
 ],
 "metadata": {
  "kernelspec": {
   "display_name": "Python 3",
   "language": "python",
   "name": "python3"
  },
  "language_info": {
   "codemirror_mode": {
    "name": "ipython",
    "version": 3
   },
   "file_extension": ".py",
   "mimetype": "text/x-python",
   "name": "python",
   "nbconvert_exporter": "python",
   "pygments_lexer": "ipython3",
   "version": "3.8.5"
  }
 },
 "nbformat": 4,
 "nbformat_minor": 4
}
