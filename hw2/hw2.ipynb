{
 "cells": [
  {
   "cell_type": "code",
   "execution_count": 1,
   "metadata": {},
   "outputs": [],
   "source": [
    "import pandas as pd\n",
    "import numpy as np\n",
    "import matplotlib.pyplot as plt\n",
    "from collections import Counter, defaultdict\n",
    "import re\n",
    "from IPython.display import display \n",
    "from csv import QUOTE_NONE "
   ]
  },
  {
   "cell_type": "code",
   "execution_count": 2,
   "metadata": {},
   "outputs": [],
   "source": [
    "SAM_COL_NAMES = ['QNAME', 'FLAG', 'RNAME', 'POS', 'MAPQ', 'CIGAR', 'RNEXT', 'PNEXT', 'TLEN', 'SEQ', 'QUAL', 'TAGS']"
   ]
  },
  {
   "cell_type": "code",
   "execution_count": 3,
   "metadata": {},
   "outputs": [],
   "source": [
    "def read_data(ref_path, sam_path, skiprows=2):\n",
    "    ref = ''\n",
    "    with open(ref_path, 'r') as fi:\n",
    "        for line in fi:\n",
    "            if line[0] != '>':\n",
    "                ref += line.strip()\n",
    "    ref_len = len(ref)\n",
    "    \n",
    "    sam = pd.read_csv(sam_path, sep='\\t', skiprows=skiprows, quoting=QUOTE_NONE, names=SAM_COL_NAMES)\n",
    "    sam['seq_len'] = sam['SEQ'].apply(len)\n",
    "    return ref, ref_len, sam"
   ]
  },
  {
   "cell_type": "code",
   "execution_count": 4,
   "metadata": {},
   "outputs": [],
   "source": [
    "def qual(c, quality_offset=33):\n",
    "    return ord(c) - quality_offset"
   ]
  },
  {
   "cell_type": "code",
   "execution_count": 5,
   "metadata": {},
   "outputs": [],
   "source": [
    "def stats(L, hist=True):\n",
    "    if isinstance(L, np.ndarray):\n",
    "        A = L\n",
    "    else:\n",
    "        A = np.array(L)\n",
    "        \n",
    "    if len(A) == 0:\n",
    "        print('(пусто)')\n",
    "        return\n",
    "\n",
    "    _mean = np.mean(A)\n",
    "    _std = np.std(A)\n",
    "    print(f'Среднее {_mean:.1f}')\n",
    "    print(f'Среднеквадратичное отклонение {_std:.1f}')\n",
    "    print(f'Минимум {np.min(A)}, максимум {np.max(A)}')\n",
    "    print(f'Интервал, в который попадает 95% [{_mean - 2*_std:.1f}, {_mean + 2*_std:.1f}]')\n",
    "    if hist:\n",
    "        plt.hist(A, rwidth=0.85)\n",
    "        plt.show()"
   ]
  },
  {
   "cell_type": "code",
   "execution_count": 6,
   "metadata": {},
   "outputs": [],
   "source": [
    "def coverage(sam, ref_len):\n",
    "    cover = np.zeros(ref_len)\n",
    "    for i in sam.index:\n",
    "        if sam.loc[i, 'POS'] > 0:\n",
    "            for j in range(sam.loc[i, 'POS'], sam.loc[i, 'POS'] + sam.loc[i, 'seq_len']):\n",
    "                if j < ref_len:\n",
    "                    cover[j-1] += 1\n",
    "    cover_1000 = [np.mean(cover[i:i+1000]) for i in range(0, ref_len, 1000)]\n",
    "    \n",
    "    plt.plot(cover_1000)\n",
    "    plt.grid(alpha=0.75)\n",
    "    plt.xlabel('Reference position (thousands of nucleotides)')\n",
    "    plt.ylabel('Number of reads')\n",
    "    plt.title('Coverage')\n",
    "    plt.show()\n",
    "    \n",
    "    print(f'Среднее покрытие: {np.mean(cover):.1f}')\n",
    "    print(f'Доля покрытой области генома {sum(cover > 0)/ref_len*100:.1f}%')"
   ]
  },
  {
   "cell_type": "code",
   "execution_count": 7,
   "metadata": {},
   "outputs": [],
   "source": [
    "def inserts(sam, iq_range=0.98):\n",
    "    insert_sizes = abs(np.array(sam['TLEN']))\n",
    "    pcnt = (1 - iq_range)/2\n",
    "    insert_sizes = sam['TLEN'].apply(abs)\n",
    "    qlow, median, qhigh = insert_sizes.quantile([pcnt, 0.50, 1-pcnt])\n",
    "    iqr = qhigh - qlow\n",
    "    filtered = insert_sizes[ (insert_sizes - median).abs() <= iqr]\n",
    "    \n",
    "    plt.hist(filtered, bins=25, rwidth=0.85)\n",
    "    plt.grid(axis='y', alpha=0.75)\n",
    "    plt.xlabel('Insert sizes')\n",
    "    plt.ylabel('Number of reads')\n",
    "    plt.title('Insert sizes distribution')\n",
    "    plt.show()\n",
    "    \n",
    "    \n",
    "    print('Расстояние вставки')\n",
    "    stats(filtered, hist=False)"
   ]
  },
  {
   "cell_type": "code",
   "execution_count": 8,
   "metadata": {},
   "outputs": [],
   "source": [
    "def errors(sam, ref):\n",
    "    errors_count = defaultdict(Counter)\n",
    "    indels = []\n",
    "    qual_mismatch = []\n",
    "    qual_insert = []\n",
    "    indels_n = 0\n",
    "    indels_poly = 0\n",
    "    \n",
    "    for n in sam.index:\n",
    "        pos = sam.loc[n, 'POS']\n",
    "        if pos == 0 or sam.loc[n, 'CIGAR'] == '*':\n",
    "            continue\n",
    "        \n",
    "        read_seq = sam.loc[n, 'SEQ']\n",
    "        read_qual = sam.loc[n, 'QUAL']\n",
    "        cigar = re.findall(r'(\\d+)([MIDNSHP=X])', sam.loc[n, 'CIGAR'])\n",
    "        seq_aligned = ''\n",
    "        \n",
    "        i = 0\n",
    "        j = 0\n",
    "        for cig_len, cig_ch in cigar:\n",
    "            if cig_ch in 'DI':\n",
    "                indels.append(int(cig_len))\n",
    "                \n",
    "            for _ in range(int(cig_len)):\n",
    "                if cig_ch == 'M':\n",
    "                    # match or mismatch\n",
    "                    seq_aligned += read_seq[i]\n",
    "                    ref_nuc = ref[pos + j - 1]\n",
    "                    read_nuc = read_seq[i]\n",
    "                    if ref_nuc != read_nuc:\n",
    "                        qual_mismatch.append(qual(read_qual[i]))\n",
    "                elif cig_ch == 'D':\n",
    "                    # deletion\n",
    "                    seq_aligned += '_'\n",
    "                    ref_nuc = ref[pos + j - 1]\n",
    "                    read_nuc = '_'\n",
    "                elif cig_ch == 'I':\n",
    "                    # insertion\n",
    "                    seq_aligned += '_'\n",
    "                    ref_nuc = '_'\n",
    "                    read_nuc = read_seq[i]\n",
    "                    qual_insert.append(qual(read_qual[i]))\n",
    "                \n",
    "                if cig_ch in 'MDI':\n",
    "                    errors_count[ref_nuc][read_nuc] += 1\n",
    "\n",
    "                if cig_ch not in 'DNHP':\n",
    "                    i += 1\n",
    "                if cig_ch not in 'ISHP':\n",
    "                    j += 1                \n",
    "        \n",
    "        poly_spans = [s.span() for s in re.finditer(r'([ATGC])\\1{4,}', seq_aligned)]\n",
    "        for i, c in enumerate(seq_aligned):\n",
    "            if c != '_':\n",
    "                continue\n",
    "            indels_n += 1\n",
    "            for a, b in poly_spans:\n",
    "                if i == b + 1 or i == a - 1:\n",
    "                    indels_poly += 1\n",
    "                    break\n",
    "            \n",
    "    errors_df = pd.DataFrame(errors_count).fillna(0)\n",
    "    total = errors_df.sum().sum()\n",
    "    \n",
    "    for i in errors_df.index:\n",
    "        if i in errors_df.columns:\n",
    "            errors_df.loc[i, i] = 0\n",
    "    \n",
    "    #display(errors_df.div(errors_df.sum(axis=1), axis=0))\n",
    "    display(errors_df.astype('int32'))\n",
    "    #display(errors_df)\n",
    "    \n",
    "    true = sum([errors_count[i][i] for i in errors_count])\n",
    "    print(f'\\nСредний процент ошибок в ридах {(total-true)/total*100:.4f}%')\n",
    "    \n",
    "    print('\\nСтатистика длин инделов')\n",
    "    stats(indels)\n",
    "    \n",
    "    print('\\nСтатистика качества (замена)')\n",
    "    stats(qual_mismatch)\n",
    "    \n",
    "    print('\\nСтатистика качества (вставка)')\n",
    "    stats(qual_insert)\n",
    "    \n",
    "    if indels_n != 0:\n",
    "        print(f'\\nПроцент инделов, находящихся рядом с гомополимерными участками {indels_poly/indels_n*100:.1f}%')\n",
    "    "
   ]
  },
  {
   "cell_type": "markdown",
   "metadata": {},
   "source": [
    "**Часть 1: анализ ридов Illumina**"
   ]
  },
  {
   "cell_type": "markdown",
   "metadata": {},
   "source": [
    "# Тестовый датасет"
   ]
  },
  {
   "cell_type": "code",
   "execution_count": 49,
   "metadata": {},
   "outputs": [
    {
     "name": "stdout",
     "output_type": "stream",
     "text": [
      "56320 + 0 in total (QC-passed reads + QC-failed reads)\n",
      "0 + 0 secondary\n",
      "0 + 0 supplementary\n",
      "0 + 0 duplicates\n",
      "56320 + 0 mapped (100.00% : N/A)\n",
      "56320 + 0 paired in sequencing\n",
      "28160 + 0 read1\n",
      "28160 + 0 read2\n",
      "56280 + 0 properly paired (99.93% : N/A)\n",
      "56320 + 0 with itself and mate mapped\n",
      "0 + 0 singletons (0.00% : N/A)\n",
      "0 + 0 with mate mapped to a different chr\n",
      "0 + 0 with mate mapped to a different chr (mapQ>=5)\n"
     ]
    }
   ],
   "source": [
    "!samtools flagstat 2a/test/test.sam"
   ]
  },
  {
   "cell_type": "code",
   "execution_count": 50,
   "metadata": {},
   "outputs": [],
   "source": [
    "ref, ref_len, sam = read_data('2a/test/MG1655-K12.first10K.fasta', '2a/test/test.sam')"
   ]
  },
  {
   "cell_type": "markdown",
   "metadata": {},
   "source": [
    "## 1. Покрытие генома"
   ]
  },
  {
   "cell_type": "code",
   "execution_count": 51,
   "metadata": {},
   "outputs": [
    {
     "data": {
      "image/png": "[encoded data removed]",
      "text/plain": [
       "<Figure size 432x288 with 1 Axes>"
      ]
     },
     "metadata": {
      "needs_background": "light"
     },
     "output_type": "display_data"
    },
    {
     "name": "stdout",
     "output_type": "stream",
     "text": [
      "Среднее покрытие: 509.0\n",
      "Доля покрытой области генома 100.0%\n"
     ]
    }
   ],
   "source": [
    "coverage(sam, ref_len)"
   ]
  },
  {
   "cell_type": "markdown",
   "metadata": {},
   "source": [
    "# 2. Распределение расстояния вставки"
   ]
  },
  {
   "cell_type": "code",
   "execution_count": 52,
   "metadata": {},
   "outputs": [
    {
     "data": {
      "image/png": "[encoded data removed]",
      "text/plain": [
       "<Figure size 432x288 with 1 Axes>"
      ]
     },
     "metadata": {
      "needs_background": "light"
     },
     "output_type": "display_data"
    },
    {
     "name": "stdout",
     "output_type": "stream",
     "text": [
      "Расстояние вставки\n",
      "Среднее 215.4\n",
      "Среднеквадратичное отклонение 10.2\n",
      "Минимум 171, максимум 250\n",
      "Интервал, в который попадает 95% [195.0, 235.7]\n"
     ]
    }
   ],
   "source": [
    "inserts(sam)"
   ]
  },
  {
   "cell_type": "markdown",
   "metadata": {},
   "source": [
    "## 3. Частоты различных замен"
   ]
  },
  {
   "cell_type": "code",
   "execution_count": 53,
   "metadata": {},
   "outputs": [
    {
     "data": {
      "text/html": [
       "<div>\n",
       "<style scoped>\n",
       "    .dataframe tbody tr th:only-of-type {\n",
       "        vertical-align: middle;\n",
       "    }\n",
       "\n",
       "    .dataframe tbody tr th {\n",
       "        vertical-align: top;\n",
       "    }\n",
       "\n",
       "    .dataframe thead th {\n",
       "        text-align: right;\n",
       "    }\n",
       "</style>\n",
       "<table border=\"1\" class=\"dataframe\">\n",
       "  <thead>\n",
       "    <tr style=\"text-align: right;\">\n",
       "      <th></th>\n",
       "      <th>T</th>\n",
       "      <th>G</th>\n",
       "      <th>C</th>\n",
       "      <th>A</th>\n",
       "    </tr>\n",
       "  </thead>\n",
       "  <tbody>\n",
       "    <tr>\n",
       "      <th>T</th>\n",
       "      <td>0</td>\n",
       "      <td>34</td>\n",
       "      <td>1</td>\n",
       "      <td>1</td>\n",
       "    </tr>\n",
       "    <tr>\n",
       "      <th>G</th>\n",
       "      <td>16</td>\n",
       "      <td>0</td>\n",
       "      <td>2</td>\n",
       "      <td>19</td>\n",
       "    </tr>\n",
       "    <tr>\n",
       "      <th>C</th>\n",
       "      <td>0</td>\n",
       "      <td>21</td>\n",
       "      <td>0</td>\n",
       "      <td>15</td>\n",
       "    </tr>\n",
       "    <tr>\n",
       "      <th>A</th>\n",
       "      <td>0</td>\n",
       "      <td>0</td>\n",
       "      <td>0</td>\n",
       "      <td>0</td>\n",
       "    </tr>\n",
       "  </tbody>\n",
       "</table>\n",
       "</div>"
      ],
      "text/plain": [
       "    T   G  C   A\n",
       "T   0  34  1   1\n",
       "G  16   0  2  19\n",
       "C   0  21  0  15\n",
       "A   0   0  0   0"
      ]
     },
     "metadata": {},
     "output_type": "display_data"
    },
    {
     "name": "stdout",
     "output_type": "stream",
     "text": [
      "\n",
      "Средний процент ошибок в ридах 0.0021%\n",
      "\n",
      "Статистика длин инделов\n",
      "(пусто)\n",
      "\n",
      "Статистика качества (замена)\n",
      "Среднее 18.2\n",
      "Среднеквадратичное отклонение 8.6\n",
      "Минимум 2, максимум 35\n",
      "Интервал, в который попадает 95% [1.0, 35.4]\n"
     ]
    },
    {
     "data": {
      "image/png": "[encoded data removed]",
      "text/plain": [
       "<Figure size 432x288 with 1 Axes>"
      ]
     },
     "metadata": {
      "needs_background": "light"
     },
     "output_type": "display_data"
    },
    {
     "name": "stdout",
     "output_type": "stream",
     "text": [
      "\n",
      "Статистика качества (вставка)\n",
      "(пусто)\n"
     ]
    }
   ],
   "source": [
    "errors(sam, ref)"
   ]
  },
  {
   "cell_type": "markdown",
   "metadata": {},
   "source": [
    "# Датасет 100x"
   ]
  },
  {
   "cell_type": "code",
   "execution_count": 54,
   "metadata": {},
   "outputs": [
    {
     "name": "stdout",
     "output_type": "stream",
     "text": [
      "5000581 + 0 in total (QC-passed reads + QC-failed reads)\n",
      "0 + 0 secondary\n",
      "581 + 0 supplementary\n",
      "0 + 0 duplicates\n",
      "4991553 + 0 mapped (99.82% : N/A)\n",
      "5000000 + 0 paired in sequencing\n",
      "2500000 + 0 read1\n",
      "2500000 + 0 read2\n",
      "4978334 + 0 properly paired (99.57% : N/A)\n",
      "4983734 + 0 with itself and mate mapped\n",
      "7238 + 0 singletons (0.14% : N/A)\n",
      "0 + 0 with mate mapped to a different chr\n",
      "0 + 0 with mate mapped to a different chr (mapQ>=5)\n"
     ]
    }
   ],
   "source": [
    "!samtools flagstat 2a/E.coli/100x.sam"
   ]
  },
  {
   "cell_type": "code",
   "execution_count": 55,
   "metadata": {},
   "outputs": [],
   "source": [
    "ref, ref_len, sam = read_data('2a/E.coli/MG1655-K12.fasta', '2a/E.coli/100x.sam')"
   ]
  },
  {
   "cell_type": "markdown",
   "metadata": {},
   "source": [
    "## 1. Покрытие генома"
   ]
  },
  {
   "cell_type": "code",
   "execution_count": 56,
   "metadata": {},
   "outputs": [
    {
     "data": {
      "image/png": "[encoded data removed]",
      "text/plain": [
       "<Figure size 432x288 with 1 Axes>"
      ]
     },
     "metadata": {
      "needs_background": "light"
     },
     "output_type": "display_data"
    },
    {
     "name": "stdout",
     "output_type": "stream",
     "text": [
      "Среднее покрытие: 107.7\n",
      "Доля покрытой области генома 100.0%\n"
     ]
    }
   ],
   "source": [
    "coverage(sam, ref_len)"
   ]
  },
  {
   "cell_type": "markdown",
   "metadata": {},
   "source": [
    "# 2. Распределение расстояния вставки"
   ]
  },
  {
   "cell_type": "code",
   "execution_count": 57,
   "metadata": {},
   "outputs": [
    {
     "data": {
      "image/png": "[encoded data removed]",
      "text/plain": [
       "<Figure size 432x288 with 1 Axes>"
      ]
     },
     "metadata": {
      "needs_background": "light"
     },
     "output_type": "display_data"
    },
    {
     "name": "stdout",
     "output_type": "stream",
     "text": [
      "Расстояние вставки\n",
      "Среднее 215.4\n",
      "Среднеквадратичное отклонение 10.2\n",
      "Минимум 168, максимум 261\n",
      "Интервал, в который попадает 95% [195.0, 235.8]\n"
     ]
    }
   ],
   "source": [
    "inserts(sam)"
   ]
  },
  {
   "cell_type": "markdown",
   "metadata": {},
   "source": [
    "## 3. Частоты различных замен"
   ]
  },
  {
   "cell_type": "code",
   "execution_count": 62,
   "metadata": {},
   "outputs": [
    {
     "data": {
      "text/html": [
       "<div>\n",
       "<style scoped>\n",
       "    .dataframe tbody tr th:only-of-type {\n",
       "        vertical-align: middle;\n",
       "    }\n",
       "\n",
       "    .dataframe tbody tr th {\n",
       "        vertical-align: top;\n",
       "    }\n",
       "\n",
       "    .dataframe thead th {\n",
       "        text-align: right;\n",
       "    }\n",
       "</style>\n",
       "<table border=\"1\" class=\"dataframe\">\n",
       "  <thead>\n",
       "    <tr style=\"text-align: right;\">\n",
       "      <th></th>\n",
       "      <th>C</th>\n",
       "      <th>A</th>\n",
       "      <th>T</th>\n",
       "      <th>G</th>\n",
       "      <th>_</th>\n",
       "    </tr>\n",
       "  </thead>\n",
       "  <tbody>\n",
       "    <tr>\n",
       "      <th>C</th>\n",
       "      <td>0</td>\n",
       "      <td>637340</td>\n",
       "      <td>379576</td>\n",
       "      <td>241260</td>\n",
       "      <td>3238</td>\n",
       "    </tr>\n",
       "    <tr>\n",
       "      <th>N</th>\n",
       "      <td>84271</td>\n",
       "      <td>84469</td>\n",
       "      <td>84100</td>\n",
       "      <td>84532</td>\n",
       "      <td>37</td>\n",
       "    </tr>\n",
       "    <tr>\n",
       "      <th>G</th>\n",
       "      <td>240021</td>\n",
       "      <td>380536</td>\n",
       "      <td>637018</td>\n",
       "      <td>0</td>\n",
       "      <td>3401</td>\n",
       "    </tr>\n",
       "    <tr>\n",
       "      <th>A</th>\n",
       "      <td>272766</td>\n",
       "      <td>0</td>\n",
       "      <td>146392</td>\n",
       "      <td>159165</td>\n",
       "      <td>1668</td>\n",
       "    </tr>\n",
       "    <tr>\n",
       "      <th>T</th>\n",
       "      <td>157971</td>\n",
       "      <td>145879</td>\n",
       "      <td>0</td>\n",
       "      <td>273569</td>\n",
       "      <td>1668</td>\n",
       "    </tr>\n",
       "    <tr>\n",
       "      <th>_</th>\n",
       "      <td>1188</td>\n",
       "      <td>1460</td>\n",
       "      <td>1338</td>\n",
       "      <td>1272</td>\n",
       "      <td>0</td>\n",
       "    </tr>\n",
       "  </tbody>\n",
       "</table>\n",
       "</div>"
      ],
      "text/plain": [
       "        C       A       T       G     _\n",
       "C       0  637340  379576  241260  3238\n",
       "N   84271   84469   84100   84532    37\n",
       "G  240021  380536  637018       0  3401\n",
       "A  272766       0  146392  159165  1668\n",
       "T  157971  145879       0  273569  1668\n",
       "_    1188    1460    1338    1272     0"
      ]
     },
     "metadata": {},
     "output_type": "display_data"
    },
    {
     "name": "stdout",
     "output_type": "stream",
     "text": [
      "\n",
      "Средний процент ошибок в ридах 0.8242%\n",
      "\n",
      "Статистика длин инделов\n",
      "Среднее 1.2\n",
      "Среднеквадратичное отклонение 0.8\n",
      "Минимум 1, максимум 24\n",
      "Интервал, в который попадает 95% [-0.4, 2.7]\n"
     ]
    },
    {
     "data": {
      "image/png": "[encoded data removed]",
      "text/plain": [
       "<Figure size 432x288 with 1 Axes>"
      ]
     },
     "metadata": {
      "needs_background": "light"
     },
     "output_type": "display_data"
    },
    {
     "name": "stdout",
     "output_type": "stream",
     "text": [
      "\n",
      "Статистика качества (замена)\n",
      "Среднее 6.5\n",
      "Среднеквадратичное отклонение 7.0\n",
      "Минимум 2, максимум 41\n",
      "Интервал, в который попадает 95% [-7.5, 20.5]\n"
     ]
    },
    {
     "data": {
      "image/png": "[encoded data removed]",
      "text/plain": [
       "<Figure size 432x288 with 1 Axes>"
      ]
     },
     "metadata": {
      "needs_background": "light"
     },
     "output_type": "display_data"
    },
    {
     "name": "stdout",
     "output_type": "stream",
     "text": [
      "\n",
      "Статистика качества (вставка)\n",
      "Среднее 7.2\n",
      "Среднеквадратичное отклонение 11.1\n",
      "Минимум 2, максимум 40\n",
      "Интервал, в который попадает 95% [-15.0, 29.4]\n"
     ]
    },
    {
     "data": {
      "image/png": "[encoded data removed]",
      "text/plain": [
       "<Figure size 432x288 with 1 Axes>"
      ]
     },
     "metadata": {
      "needs_background": "light"
     },
     "output_type": "display_data"
    },
    {
     "name": "stdout",
     "output_type": "stream",
     "text": [
      "\n",
      "Процент инделов, находящихся рядом с гомополимерными участками 5.2%\n"
     ]
    }
   ],
   "source": [
    "errors(sam, ref)"
   ]
  },
  {
   "cell_type": "markdown",
   "metadata": {},
   "source": [
    "# Датасет ecoli_mda_lane1"
   ]
  },
  {
   "cell_type": "code",
   "execution_count": 63,
   "metadata": {},
   "outputs": [
    {
     "name": "stdout",
     "output_type": "stream",
     "text": [
      "5869326 + 0 in total (QC-passed reads + QC-failed reads)\n",
      "0 + 0 secondary\n",
      "40560 + 0 supplementary\n",
      "0 + 0 duplicates\n",
      "5706946 + 0 mapped (97.23% : N/A)\n",
      "5828766 + 0 paired in sequencing\n",
      "2914383 + 0 read1\n",
      "2914383 + 0 read2\n",
      "5151500 + 0 properly paired (88.38% : N/A)\n",
      "5647486 + 0 with itself and mate mapped\n",
      "18900 + 0 singletons (0.32% : N/A)\n",
      "0 + 0 with mate mapped to a different chr\n",
      "0 + 0 with mate mapped to a different chr (mapQ>=5)\n"
     ]
    }
   ],
   "source": [
    "!samtools flagstat 2a/E.coli/ecoli_mda_lane1_downsampled.sam"
   ]
  },
  {
   "cell_type": "code",
   "execution_count": 64,
   "metadata": {},
   "outputs": [],
   "source": [
    "ref, ref_len, sam = read_data('2a/E.coli/MG1655-K12.fasta', '2a/E.coli/ecoli_mda_lane1_downsampled.sam')"
   ]
  },
  {
   "cell_type": "markdown",
   "metadata": {},
   "source": [
    "## 1. Покрытие генома"
   ]
  },
  {
   "cell_type": "code",
   "execution_count": 65,
   "metadata": {},
   "outputs": [
    {
     "data": {
      "image/png": "[encoded data removed]",
      "text/plain": [
       "<Figure size 432x288 with 1 Axes>"
      ]
     },
     "metadata": {
      "needs_background": "light"
     },
     "output_type": "display_data"
    },
    {
     "name": "stdout",
     "output_type": "stream",
     "text": [
      "Среднее покрытие: 122.9\n",
      "Доля покрытой области генома 96.6%\n"
     ]
    }
   ],
   "source": [
    "coverage(sam, ref_len)"
   ]
  },
  {
   "cell_type": "markdown",
   "metadata": {},
   "source": [
    "## 2. Распределение расстояния вставки"
   ]
  },
  {
   "cell_type": "code",
   "execution_count": 66,
   "metadata": {},
   "outputs": [
    {
     "data": {
      "image/png": "[encoded data removed]",
      "text/plain": [
       "<Figure size 432x288 with 1 Axes>"
      ]
     },
     "metadata": {
      "needs_background": "light"
     },
     "output_type": "display_data"
    },
    {
     "name": "stdout",
     "output_type": "stream",
     "text": [
      "Расстояние вставки\n",
      "Среднее 258.9\n",
      "Среднеквадратичное отклонение 66.5\n",
      "Минимум 33, максимум 529\n",
      "Интервал, в который попадает 95% [126.0, 391.8]\n"
     ]
    }
   ],
   "source": [
    "inserts(sam, 0.9)"
   ]
  },
  {
   "cell_type": "markdown",
   "metadata": {},
   "source": [
    "## 3. Частоты различных замен"
   ]
  },
  {
   "cell_type": "code",
   "execution_count": 67,
   "metadata": {},
   "outputs": [
    {
     "data": {
      "text/html": [
       "<div>\n",
       "<style scoped>\n",
       "    .dataframe tbody tr th:only-of-type {\n",
       "        vertical-align: middle;\n",
       "    }\n",
       "\n",
       "    .dataframe tbody tr th {\n",
       "        vertical-align: top;\n",
       "    }\n",
       "\n",
       "    .dataframe thead th {\n",
       "        text-align: right;\n",
       "    }\n",
       "</style>\n",
       "<table border=\"1\" class=\"dataframe\">\n",
       "  <thead>\n",
       "    <tr style=\"text-align: right;\">\n",
       "      <th></th>\n",
       "      <th>T</th>\n",
       "      <th>G</th>\n",
       "      <th>A</th>\n",
       "      <th>C</th>\n",
       "      <th>_</th>\n",
       "    </tr>\n",
       "  </thead>\n",
       "  <tbody>\n",
       "    <tr>\n",
       "      <th>N</th>\n",
       "      <td>202196</td>\n",
       "      <td>196474</td>\n",
       "      <td>204490</td>\n",
       "      <td>198160</td>\n",
       "      <td>132</td>\n",
       "    </tr>\n",
       "    <tr>\n",
       "      <th>T</th>\n",
       "      <td>0</td>\n",
       "      <td>277789</td>\n",
       "      <td>168711</td>\n",
       "      <td>175047</td>\n",
       "      <td>2575</td>\n",
       "    </tr>\n",
       "    <tr>\n",
       "      <th>C</th>\n",
       "      <td>381076</td>\n",
       "      <td>223157</td>\n",
       "      <td>616006</td>\n",
       "      <td>0</td>\n",
       "      <td>3659</td>\n",
       "    </tr>\n",
       "    <tr>\n",
       "      <th>G</th>\n",
       "      <td>604303</td>\n",
       "      <td>0</td>\n",
       "      <td>377466</td>\n",
       "      <td>219045</td>\n",
       "      <td>2993</td>\n",
       "    </tr>\n",
       "    <tr>\n",
       "      <th>A</th>\n",
       "      <td>170488</td>\n",
       "      <td>175310</td>\n",
       "      <td>0</td>\n",
       "      <td>282365</td>\n",
       "      <td>2519</td>\n",
       "    </tr>\n",
       "    <tr>\n",
       "      <th>_</th>\n",
       "      <td>2226</td>\n",
       "      <td>1773</td>\n",
       "      <td>2252</td>\n",
       "      <td>1807</td>\n",
       "      <td>0</td>\n",
       "    </tr>\n",
       "  </tbody>\n",
       "</table>\n",
       "</div>"
      ],
      "text/plain": [
       "        T       G       A       C     _\n",
       "N  202196  196474  204490  198160   132\n",
       "T       0  277789  168711  175047  2575\n",
       "C  381076  223157  616006       0  3659\n",
       "G  604303       0  377466  219045  2993\n",
       "A  170488  175310       0  282365  2519\n",
       "_    2226    1773    2252    1807     0"
      ]
     },
     "metadata": {},
     "output_type": "display_data"
    },
    {
     "name": "stdout",
     "output_type": "stream",
     "text": [
      "\n",
      "Средний процент ошибок в ридах 0.8110%\n",
      "\n",
      "Статистика длин инделов\n",
      "Среднее 1.2\n",
      "Среднеквадратичное отклонение 0.8\n",
      "Минимум 1, максимум 34\n",
      "Интервал, в который попадает 95% [-0.5, 2.8]\n"
     ]
    },
    {
     "data": {
      "image/png": "[encoded data removed]",
      "text/plain": [
       "<Figure size 432x288 with 1 Axes>"
      ]
     },
     "metadata": {
      "needs_background": "light"
     },
     "output_type": "display_data"
    },
    {
     "name": "stdout",
     "output_type": "stream",
     "text": [
      "\n",
      "Статистика качества (замена)\n",
      "Среднее 35.5\n",
      "Среднеквадратичное отклонение 5.8\n",
      "Минимум 33, максимум 65\n",
      "Интервал, в который попадает 95% [23.9, 47.1]\n"
     ]
    },
    {
     "data": {
      "image/png": "[encoded data removed]",
      "text/plain": [
       "<Figure size 432x288 with 1 Axes>"
      ]
     },
     "metadata": {
      "needs_background": "light"
     },
     "output_type": "display_data"
    },
    {
     "name": "stdout",
     "output_type": "stream",
     "text": [
      "\n",
      "Статистика качества (вставка)\n",
      "Среднее 46.2\n",
      "Среднеквадратичное отклонение 13.6\n",
      "Минимум 33, максимум 65\n",
      "Интервал, в который попадает 95% [19.0, 73.4]\n"
     ]
    },
    {
     "data": {
      "image/png": "[encoded data removed]",
      "text/plain": [
       "<Figure size 432x288 with 1 Axes>"
      ]
     },
     "metadata": {
      "needs_background": "light"
     },
     "output_type": "display_data"
    },
    {
     "name": "stdout",
     "output_type": "stream",
     "text": [
      "\n",
      "Процент инделов, находящихся рядом с гомополимерными участками 28.7%\n"
     ]
    }
   ],
   "source": [
    "errors(sam, ref)"
   ]
  },
  {
   "cell_type": "markdown",
   "metadata": {},
   "source": [
    "**Часть 2: анализ ридов IonTorrent**"
   ]
  },
  {
   "cell_type": "markdown",
   "metadata": {},
   "source": [
    "# Датасет B22-730"
   ]
  },
  {
   "cell_type": "code",
   "execution_count": 9,
   "metadata": {},
   "outputs": [
    {
     "name": "stdout",
     "output_type": "stream",
     "text": [
      "497384 + 0 in total (QC-passed reads + QC-failed reads)\n",
      "0 + 0 secondary\n",
      "2463 + 0 supplementary\n",
      "0 + 0 duplicates\n",
      "489459 + 0 mapped (98.41% : N/A)\n",
      "0 + 0 paired in sequencing\n",
      "0 + 0 read1\n",
      "0 + 0 read2\n",
      "0 + 0 properly paired (N/A : N/A)\n",
      "0 + 0 with itself and mate mapped\n",
      "0 + 0 singletons (N/A : N/A)\n",
      "0 + 0 with mate mapped to a different chr\n",
      "0 + 0 with mate mapped to a different chr (mapQ>=5)\n"
     ]
    }
   ],
   "source": [
    "!samtools flagstat 2b/B22-730.sam"
   ]
  },
  {
   "cell_type": "code",
   "execution_count": 10,
   "metadata": {},
   "outputs": [],
   "source": [
    "ref, ref_len, sam = read_data('2b/DH10B-K12.fasta', '2b/B22-730.sam')"
   ]
  },
  {
   "cell_type": "markdown",
   "metadata": {},
   "source": [
    "## 1. Покрытие генома"
   ]
  },
  {
   "cell_type": "code",
   "execution_count": 11,
   "metadata": {},
   "outputs": [
    {
     "data": {
      "image/png": "[encoded data removed]",
      "text/plain": [
       "<Figure size 432x288 with 1 Axes>"
      ]
     },
     "metadata": {
      "needs_background": "light"
     },
     "output_type": "display_data"
    },
    {
     "name": "stdout",
     "output_type": "stream",
     "text": [
      "Среднее покрытие: 34.4\n",
      "Доля покрытой области генома 100.0%\n"
     ]
    }
   ],
   "source": [
    "coverage(sam, ref_len)"
   ]
  },
  {
   "cell_type": "markdown",
   "metadata": {},
   "source": [
    "## 2. Статистика и ошибки"
   ]
  },
  {
   "cell_type": "code",
   "execution_count": 12,
   "metadata": {},
   "outputs": [
    {
     "data": {
      "text/html": [
       "<div>\n",
       "<style scoped>\n",
       "    .dataframe tbody tr th:only-of-type {\n",
       "        vertical-align: middle;\n",
       "    }\n",
       "\n",
       "    .dataframe tbody tr th {\n",
       "        vertical-align: top;\n",
       "    }\n",
       "\n",
       "    .dataframe thead th {\n",
       "        text-align: right;\n",
       "    }\n",
       "</style>\n",
       "<table border=\"1\" class=\"dataframe\">\n",
       "  <thead>\n",
       "    <tr style=\"text-align: right;\">\n",
       "      <th></th>\n",
       "      <th>A</th>\n",
       "      <th>G</th>\n",
       "      <th>C</th>\n",
       "      <th>T</th>\n",
       "      <th>_</th>\n",
       "    </tr>\n",
       "  </thead>\n",
       "  <tbody>\n",
       "    <tr>\n",
       "      <th>A</th>\n",
       "      <td>0</td>\n",
       "      <td>17215</td>\n",
       "      <td>10360</td>\n",
       "      <td>11325</td>\n",
       "      <td>183228</td>\n",
       "    </tr>\n",
       "    <tr>\n",
       "      <th>_</th>\n",
       "      <td>119254</td>\n",
       "      <td>72804</td>\n",
       "      <td>72479</td>\n",
       "      <td>119372</td>\n",
       "      <td>0</td>\n",
       "    </tr>\n",
       "    <tr>\n",
       "      <th>G</th>\n",
       "      <td>23657</td>\n",
       "      <td>0</td>\n",
       "      <td>8092</td>\n",
       "      <td>9060</td>\n",
       "      <td>79197</td>\n",
       "    </tr>\n",
       "    <tr>\n",
       "      <th>C</th>\n",
       "      <td>9147</td>\n",
       "      <td>7209</td>\n",
       "      <td>0</td>\n",
       "      <td>24493</td>\n",
       "      <td>79059</td>\n",
       "    </tr>\n",
       "    <tr>\n",
       "      <th>T</th>\n",
       "      <td>11173</td>\n",
       "      <td>10563</td>\n",
       "      <td>16671</td>\n",
       "      <td>0</td>\n",
       "      <td>184506</td>\n",
       "    </tr>\n",
       "  </tbody>\n",
       "</table>\n",
       "</div>"
      ],
      "text/plain": [
       "        A      G      C       T       _\n",
       "A       0  17215  10360   11325  183228\n",
       "_  119254  72804  72479  119372       0\n",
       "G   23657      0   8092    9060   79197\n",
       "C    9147   7209      0   24493   79059\n",
       "T   11173  10563  16671       0  184506"
      ]
     },
     "metadata": {},
     "output_type": "display_data"
    },
    {
     "name": "stdout",
     "output_type": "stream",
     "text": [
      "\n",
      "Средний процент ошибок в ридах 0.6680%\n",
      "\n",
      "Статистика длин инделов\n",
      "Среднее 1.1\n",
      "Среднеквадратичное отклонение 0.4\n",
      "Минимум 1, максимум 24\n",
      "Интервал, в который попадает 95% [0.3, 1.9]\n"
     ]
    },
    {
     "data": {
      "image/png": "[encoded data removed]",
      "text/plain": [
       "<Figure size 432x288 with 1 Axes>"
      ]
     },
     "metadata": {
      "needs_background": "light"
     },
     "output_type": "display_data"
    },
    {
     "name": "stdout",
     "output_type": "stream",
     "text": [
      "\n",
      "Статистика качества (замена)\n",
      "Среднее 19.1\n",
      "Среднеквадратичное отклонение 8.0\n",
      "Минимум 1, максимум 45\n",
      "Интервал, в который попадает 95% [3.1, 35.2]\n"
     ]
    },
    {
     "data": {
      "image/png": "[encoded data removed]",
      "text/plain": [
       "<Figure size 432x288 with 1 Axes>"
      ]
     },
     "metadata": {
      "needs_background": "light"
     },
     "output_type": "display_data"
    },
    {
     "name": "stdout",
     "output_type": "stream",
     "text": [
      "\n",
      "Статистика качества (вставка)\n",
      "Среднее 16.1\n",
      "Среднеквадратичное отклонение 5.9\n",
      "Минимум 1, максимум 45\n",
      "Интервал, в который попадает 95% [4.3, 27.8]\n"
     ]
    },
    {
     "data": {
      "image/png": "[encoded data removed]",
      "text/plain": [
       "<Figure size 432x288 with 1 Axes>"
      ]
     },
     "metadata": {
      "needs_background": "light"
     },
     "output_type": "display_data"
    },
    {
     "name": "stdout",
     "output_type": "stream",
     "text": [
      "\n",
      "Процент инделов, находящихся рядом с гомополимерными участками 9.1%\n"
     ]
    }
   ],
   "source": [
    "errors(sam, ref)"
   ]
  },
  {
   "cell_type": "markdown",
   "metadata": {},
   "source": [
    "# Датасет C24-698"
   ]
  },
  {
   "cell_type": "code",
   "execution_count": 13,
   "metadata": {},
   "outputs": [
    {
     "name": "stdout",
     "output_type": "stream",
     "text": [
      "686667 + 0 in total (QC-passed reads + QC-failed reads)\n",
      "0 + 0 secondary\n",
      "1261 + 0 supplementary\n",
      "0 + 0 duplicates\n",
      "682638 + 0 mapped (99.41% : N/A)\n",
      "0 + 0 paired in sequencing\n",
      "0 + 0 read1\n",
      "0 + 0 read2\n",
      "0 + 0 properly paired (N/A : N/A)\n",
      "0 + 0 with itself and mate mapped\n",
      "0 + 0 singletons (N/A : N/A)\n",
      "0 + 0 with mate mapped to a different chr\n",
      "0 + 0 with mate mapped to a different chr (mapQ>=5)\n"
     ]
    }
   ],
   "source": [
    "!samtools flagstat 2b/C24-698.sam"
   ]
  },
  {
   "cell_type": "code",
   "execution_count": 14,
   "metadata": {},
   "outputs": [],
   "source": [
    "ref, ref_len, sam = read_data('2b/DH10B-K12.fasta', '2b/C24-698.sam')"
   ]
  },
  {
   "cell_type": "markdown",
   "metadata": {},
   "source": [
    "## 1. Покрытие генома"
   ]
  },
  {
   "cell_type": "code",
   "execution_count": 15,
   "metadata": {},
   "outputs": [
    {
     "data": {
      "image/png": "[encoded data removed]",
      "text/plain": [
       "<Figure size 432x288 with 1 Axes>"
      ]
     },
     "metadata": {
      "needs_background": "light"
     },
     "output_type": "display_data"
    },
    {
     "name": "stdout",
     "output_type": "stream",
     "text": [
      "Среднее покрытие: 35.8\n",
      "Доля покрытой области генома 100.0%\n"
     ]
    }
   ],
   "source": [
    "coverage(sam, ref_len)"
   ]
  },
  {
   "cell_type": "markdown",
   "metadata": {},
   "source": [
    "## 2. Статистика и ошибки"
   ]
  },
  {
   "cell_type": "code",
   "execution_count": 16,
   "metadata": {},
   "outputs": [
    {
     "data": {
      "text/html": [
       "<div>\n",
       "<style scoped>\n",
       "    .dataframe tbody tr th:only-of-type {\n",
       "        vertical-align: middle;\n",
       "    }\n",
       "\n",
       "    .dataframe tbody tr th {\n",
       "        vertical-align: top;\n",
       "    }\n",
       "\n",
       "    .dataframe thead th {\n",
       "        text-align: right;\n",
       "    }\n",
       "</style>\n",
       "<table border=\"1\" class=\"dataframe\">\n",
       "  <thead>\n",
       "    <tr style=\"text-align: right;\">\n",
       "      <th></th>\n",
       "      <th>A</th>\n",
       "      <th>G</th>\n",
       "      <th>C</th>\n",
       "      <th>T</th>\n",
       "      <th>_</th>\n",
       "    </tr>\n",
       "  </thead>\n",
       "  <tbody>\n",
       "    <tr>\n",
       "      <th>A</th>\n",
       "      <td>0</td>\n",
       "      <td>14257</td>\n",
       "      <td>6751</td>\n",
       "      <td>6549</td>\n",
       "      <td>80749</td>\n",
       "    </tr>\n",
       "    <tr>\n",
       "      <th>_</th>\n",
       "      <td>37199</td>\n",
       "      <td>82142</td>\n",
       "      <td>82132</td>\n",
       "      <td>37728</td>\n",
       "      <td>0</td>\n",
       "    </tr>\n",
       "    <tr>\n",
       "      <th>G</th>\n",
       "      <td>21938</td>\n",
       "      <td>0</td>\n",
       "      <td>5380</td>\n",
       "      <td>5248</td>\n",
       "      <td>46631</td>\n",
       "    </tr>\n",
       "    <tr>\n",
       "      <th>T</th>\n",
       "      <td>6488</td>\n",
       "      <td>7069</td>\n",
       "      <td>13966</td>\n",
       "      <td>0</td>\n",
       "      <td>81446</td>\n",
       "    </tr>\n",
       "    <tr>\n",
       "      <th>C</th>\n",
       "      <td>5124</td>\n",
       "      <td>4978</td>\n",
       "      <td>0</td>\n",
       "      <td>22450</td>\n",
       "      <td>47601</td>\n",
       "    </tr>\n",
       "  </tbody>\n",
       "</table>\n",
       "</div>"
      ],
      "text/plain": [
       "       A      G      C      T      _\n",
       "A      0  14257   6751   6549  80749\n",
       "_  37199  82142  82132  37728      0\n",
       "G  21938      0   5380   5248  46631\n",
       "T   6488   7069  13966      0  81446\n",
       "C   5124   4978      0  22450  47601"
      ]
     },
     "metadata": {},
     "output_type": "display_data"
    },
    {
     "name": "stdout",
     "output_type": "stream",
     "text": [
      "\n",
      "Средний процент ошибок в ридах 0.3675%\n",
      "\n",
      "Статистика длин инделов\n",
      "Среднее 1.1\n",
      "Среднеквадратичное отклонение 0.3\n",
      "Минимум 1, максимум 26\n",
      "Интервал, в который попадает 95% [0.4, 1.7]\n"
     ]
    },
    {
     "data": {
      "image/png": "[encoded data removed]",
      "text/plain": [
       "<Figure size 432x288 with 1 Axes>"
      ]
     },
     "metadata": {
      "needs_background": "light"
     },
     "output_type": "display_data"
    },
    {
     "name": "stdout",
     "output_type": "stream",
     "text": [
      "\n",
      "Статистика качества (замена)\n",
      "Среднее 21.0\n",
      "Среднеквадратичное отклонение 8.6\n",
      "Минимум 1, максимум 45\n",
      "Интервал, в который попадает 95% [3.9, 38.2]\n"
     ]
    },
    {
     "data": {
      "image/png": "[encoded data removed]",
      "text/plain": [
       "<Figure size 432x288 with 1 Axes>"
      ]
     },
     "metadata": {
      "needs_background": "light"
     },
     "output_type": "display_data"
    },
    {
     "name": "stdout",
     "output_type": "stream",
     "text": [
      "\n",
      "Статистика качества (вставка)\n",
      "Среднее 15.4\n",
      "Среднеквадратичное отклонение 5.1\n",
      "Минимум 1, максимум 45\n",
      "Интервал, в который попадает 95% [5.3, 25.5]\n"
     ]
    },
    {
     "data": {
      "image/png": "[encoded data removed]",
      "text/plain": [
       "<Figure size 432x288 with 1 Axes>"
      ]
     },
     "metadata": {
      "needs_background": "light"
     },
     "output_type": "display_data"
    },
    {
     "name": "stdout",
     "output_type": "stream",
     "text": [
      "\n",
      "Процент инделов, находящихся рядом с гомополимерными участками 5.0%\n"
     ]
    }
   ],
   "source": [
    "errors(sam, ref)"
   ]
  },
  {
   "cell_type": "code",
   "execution_count": null,
   "metadata": {},
   "outputs": [],
   "source": []
  }
 ],
 "metadata": {
  "kernelspec": {
   "display_name": "Python 3",
   "language": "python",
   "name": "python3"
  },
  "language_info": {
   "codemirror_mode": {
    "name": "ipython",
    "version": 3
   },
   "file_extension": ".py",
   "mimetype": "text/x-python",
   "name": "python",
   "nbconvert_exporter": "python",
   "pygments_lexer": "ipython3",
   "version": "3.9.2"
  }
 },
 "nbformat": 4,
 "nbformat_minor": 4
}
