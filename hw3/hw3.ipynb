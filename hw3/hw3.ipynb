{
 "cells": [
  {
   "cell_type": "code",
   "execution_count": 1,
   "metadata": {},
   "outputs": [],
   "source": [
    "import pandas as pd\n",
    "import numpy as np\n",
    "import matplotlib.pyplot as plt\n",
    "from collections import Counter, defaultdict\n",
    "import re\n",
    "from IPython.display import display \n",
    "from csv import QUOTE_NONE "
   ]
  },
  {
   "cell_type": "code",
   "execution_count": 2,
   "metadata": {},
   "outputs": [],
   "source": [
    "SAM_COL_NAMES = ['QNAME', 'FLAG', 'RNAME', 'POS', 'MAPQ', 'CIGAR', 'RNEXT', 'PNEXT', 'TLEN', 'SEQ', 'QUAL', 'TAGS']"
   ]
  },
  {
   "cell_type": "code",
   "execution_count": 3,
   "metadata": {},
   "outputs": [],
   "source": [
    "def read_data(ref_path, sam_path, skiprows=2):\n",
    "    ref = ''\n",
    "    with open(ref_path, 'r') as fi:\n",
    "        for line in fi:\n",
    "            if line[0] != '>':\n",
    "                ref += line.strip()\n",
    "    ref_len = len(ref)\n",
    "    \n",
    "    sam = pd.read_csv(sam_path, sep='\\t', skiprows=skiprows, quoting=QUOTE_NONE, names=SAM_COL_NAMES)\n",
    "    sam['seq_len'] = sam['SEQ'].apply(len)\n",
    "    return ref, ref_len, sam"
   ]
  },
  {
   "cell_type": "code",
   "execution_count": 4,
   "metadata": {},
   "outputs": [],
   "source": [
    "def qual(c, quality_offset=33):\n",
    "    return ord(c) - quality_offset"
   ]
  },
  {
   "cell_type": "code",
   "execution_count": 5,
   "metadata": {},
   "outputs": [],
   "source": [
    "def stats(L):\n",
    "    if isinstance(L, np.ndarray):\n",
    "        A = L\n",
    "    else:\n",
    "        A = np.array(L)\n",
    "        \n",
    "    if len(A) == 0:\n",
    "        print('(пусто)')\n",
    "        return\n",
    "\n",
    "    _mean = np.mean(A)\n",
    "    _std = np.std(A)\n",
    "    print(f'Среднее {_mean:.1f}')\n",
    "    print(f'Среднеквадратичное отклонение {_std:.1f}')\n",
    "    print(f'Минимум {np.min(A)}, максимум {np.max(A)}')\n",
    "    print(f'Интервал, в который попадает 95% [{_mean - 2*_std:.1f}, {_mean + 2*_std:.1f}]')"
   ]
  },
  {
   "cell_type": "code",
   "execution_count": 6,
   "metadata": {},
   "outputs": [],
   "source": [
    "def coverage(sam, ref_len):\n",
    "    cover = np.zeros(ref_len)\n",
    "    for i in sam.index:\n",
    "        if sam.loc[i, 'POS'] > 0:\n",
    "            for j in range(sam.loc[i, 'POS'], sam.loc[i, 'POS'] + sam.loc[i, 'seq_len']):\n",
    "                if j < ref_len:\n",
    "                    cover[j-1] += 1\n",
    "    cover_1000 = [np.mean(cover[i:i+1000]) for i in range(0, ref_len, 1000)]\n",
    "    \n",
    "    plt.plot(cover_1000)\n",
    "    plt.grid(alpha=0.75)\n",
    "    plt.xlabel('Reference position (thousands of nucleotides)')\n",
    "    plt.ylabel('Number of reads')\n",
    "    plt.title('Coverage')\n",
    "    plt.show()\n",
    "    \n",
    "    print(f'Среднее покрытие: {np.mean(cover):.1f}')\n",
    "    print(f'Доля покрытой области генома {sum(cover > 0)/ref_len*100:.1f}%')"
   ]
  },
  {
   "cell_type": "code",
   "execution_count": 28,
   "metadata": {},
   "outputs": [],
   "source": [
    "def errors(sam, ref):\n",
    "    errors_count = defaultdict(Counter)\n",
    "    indels = []\n",
    "    qual_mismatch = []\n",
    "    qual_insert = []\n",
    "    indels_n = 0\n",
    "    indels_poly = 0\n",
    "    \n",
    "    for n in sam.index:\n",
    "        pos = sam.loc[n, 'POS']\n",
    "        if pos == 0 or sam.loc[n, 'CIGAR'] == '*' or sam.loc[n, 'SEQ'] == '*':\n",
    "            continue\n",
    "        \n",
    "        read_seq = sam.loc[n, 'SEQ']\n",
    "        read_qual = sam.loc[n, 'QUAL']\n",
    "        cigar = re.findall(r'(\\d+)([MIDNSHP=X])', sam.loc[n, 'CIGAR'])\n",
    "        seq_aligned = ''\n",
    "        \n",
    "        i = 0\n",
    "        j = 0\n",
    "        for cig_len, cig_ch in cigar:\n",
    "            if cig_ch in 'DI':\n",
    "                indels.append(int(cig_len))\n",
    "                \n",
    "            for _ in range(int(cig_len)):\n",
    "                if cig_ch == 'M':\n",
    "                    # match or mismatch\n",
    "                    seq_aligned += read_seq[i]\n",
    "                    ref_nuc = ref[pos + j - 1]\n",
    "                    read_nuc = read_seq[i]\n",
    "                    if ref_nuc != read_nuc:\n",
    "                        qual_mismatch.append(qual(read_qual[i]))\n",
    "                elif cig_ch == 'D':\n",
    "                    # deletion\n",
    "                    seq_aligned += '_'\n",
    "                    ref_nuc = ref[pos + j - 1]\n",
    "                    read_nuc = '_'\n",
    "                elif cig_ch == 'I':\n",
    "                    # insertion\n",
    "                    seq_aligned += '_'\n",
    "                    ref_nuc = '_'\n",
    "                    read_nuc = read_seq[i]\n",
    "                    qual_insert.append(qual(read_qual[i]))\n",
    "                \n",
    "                if cig_ch in 'MDI':\n",
    "                    errors_count[ref_nuc][read_nuc] += 1\n",
    "\n",
    "                if cig_ch not in 'DNHP':\n",
    "                    i += 1\n",
    "                if cig_ch not in 'ISHP':\n",
    "                    j += 1                \n",
    "        \n",
    "        poly_spans = [s.span() for s in re.finditer(r'([ATGC])\\1{4,}', seq_aligned)]\n",
    "        for i, c in enumerate(seq_aligned):\n",
    "            if c != '_':\n",
    "                continue\n",
    "            indels_n += 1\n",
    "            for a, b in poly_spans:\n",
    "                if i == b + 1 or i == a - 1:\n",
    "                    indels_poly += 1\n",
    "                    break\n",
    "            \n",
    "    errors_df = pd.DataFrame(errors_count).fillna(0)\n",
    "    \n",
    "    display(errors_df.div(errors_df.sum(axis=1), axis=0))\n",
    "    \n",
    "    total = errors_df.sum().sum()\n",
    "    true = sum([errors_count[i][i] for i in errors_count])\n",
    "    print(f'\\nСредний процент ошибок в ридах {(total-true)/total*100:.4f}%')\n",
    "    \n",
    "    print('\\nСтатистика длин инделов')\n",
    "    stats(indels)\n",
    "    \n",
    "    print('\\nСтатистика качества (замена)')\n",
    "    stats(qual_mismatch)\n",
    "    \n",
    "    print('\\nСтатистика качества (вставка)')\n",
    "    stats(qual_insert)\n",
    "    \n",
    "    if indels_n != 0:\n",
    "        print(f'\\nПроцент инделов, находящихся рядом с гомополимерными участками {indels_poly/indels_n*100:.1f}%')\n",
    "    "
   ]
  },
  {
   "cell_type": "markdown",
   "metadata": {},
   "source": [
    "# PacBio"
   ]
  },
  {
   "cell_type": "code",
   "execution_count": 8,
   "metadata": {},
   "outputs": [
    {
     "name": "stdout",
     "output_type": "stream",
     "text": [
      "52081 + 0 in total (QC-passed reads + QC-failed reads)\r\n",
      "1736 + 0 secondary\r\n",
      "8898 + 0 supplementary\r\n",
      "0 + 0 duplicates\r\n",
      "51199 + 0 mapped (98.31% : N/A)\r\n",
      "0 + 0 paired in sequencing\r\n",
      "0 + 0 read1\r\n",
      "0 + 0 read2\r\n",
      "0 + 0 properly paired (N/A : N/A)\r\n",
      "0 + 0 with itself and mate mapped\r\n",
      "0 + 0 singletons (N/A : N/A)\r\n",
      "0 + 0 with mate mapped to a different chr\r\n",
      "0 + 0 with mate mapped to a different chr (mapQ>=5)\r\n"
     ]
    }
   ],
   "source": [
    "!samtools flagstat pacbio_40x.sam"
   ]
  },
  {
   "cell_type": "code",
   "execution_count": 18,
   "metadata": {},
   "outputs": [],
   "source": [
    "ref, ref_len, sam = read_data('reference.fasta', 'pacbio_40x.sam')"
   ]
  },
  {
   "cell_type": "markdown",
   "metadata": {},
   "source": [
    "## 1. Покрытие генома"
   ]
  },
  {
   "cell_type": "code",
   "execution_count": 19,
   "metadata": {},
   "outputs": [
    {
     "data": {
      "image/png": "[encoded data removed]",
      "text/plain": [
       "<Figure size 432x288 with 1 Axes>"
      ]
     },
     "metadata": {
      "needs_background": "light"
     },
     "output_type": "display_data"
    },
    {
     "name": "stdout",
     "output_type": "stream",
     "text": [
      "Среднее покрытие: 48.7\n",
      "Доля покрытой области генома 100.0%\n"
     ]
    }
   ],
   "source": [
    "coverage(sam, ref_len)"
   ]
  },
  {
   "cell_type": "markdown",
   "metadata": {},
   "source": [
    "## 2. Частоты различных замен"
   ]
  },
  {
   "cell_type": "code",
   "execution_count": 29,
   "metadata": {},
   "outputs": [
    {
     "data": {
      "text/html": [
       "<div>\n",
       "<style scoped>\n",
       "    .dataframe tbody tr th:only-of-type {\n",
       "        vertical-align: middle;\n",
       "    }\n",
       "\n",
       "    .dataframe tbody tr th {\n",
       "        vertical-align: top;\n",
       "    }\n",
       "\n",
       "    .dataframe thead th {\n",
       "        text-align: right;\n",
       "    }\n",
       "</style>\n",
       "<table border=\"1\" class=\"dataframe\">\n",
       "  <thead>\n",
       "    <tr style=\"text-align: right;\">\n",
       "      <th></th>\n",
       "      <th>C</th>\n",
       "      <th>T</th>\n",
       "      <th>G</th>\n",
       "      <th>A</th>\n",
       "      <th>_</th>\n",
       "    </tr>\n",
       "  </thead>\n",
       "  <tbody>\n",
       "    <tr>\n",
       "      <th>C</th>\n",
       "      <td>0.884250</td>\n",
       "      <td>0.006296</td>\n",
       "      <td>0.008486</td>\n",
       "      <td>0.007216</td>\n",
       "      <td>0.093752</td>\n",
       "    </tr>\n",
       "    <tr>\n",
       "      <th>G</th>\n",
       "      <td>0.008480</td>\n",
       "      <td>0.007346</td>\n",
       "      <td>0.883828</td>\n",
       "      <td>0.006273</td>\n",
       "      <td>0.094073</td>\n",
       "    </tr>\n",
       "    <tr>\n",
       "      <th>_</th>\n",
       "      <td>0.295477</td>\n",
       "      <td>0.204810</td>\n",
       "      <td>0.294469</td>\n",
       "      <td>0.205245</td>\n",
       "      <td>0.000000</td>\n",
       "    </tr>\n",
       "    <tr>\n",
       "      <th>A</th>\n",
       "      <td>0.009525</td>\n",
       "      <td>0.005943</td>\n",
       "      <td>0.006718</td>\n",
       "      <td>0.896472</td>\n",
       "      <td>0.081341</td>\n",
       "    </tr>\n",
       "    <tr>\n",
       "      <th>T</th>\n",
       "      <td>0.006732</td>\n",
       "      <td>0.896677</td>\n",
       "      <td>0.009381</td>\n",
       "      <td>0.005953</td>\n",
       "      <td>0.081257</td>\n",
       "    </tr>\n",
       "  </tbody>\n",
       "</table>\n",
       "</div>"
      ],
      "text/plain": [
       "          C         T         G         A         _\n",
       "C  0.884250  0.006296  0.008486  0.007216  0.093752\n",
       "G  0.008480  0.007346  0.883828  0.006273  0.094073\n",
       "_  0.295477  0.204810  0.294469  0.205245  0.000000\n",
       "A  0.009525  0.005943  0.006718  0.896472  0.081341\n",
       "T  0.006732  0.896677  0.009381  0.005953  0.081257"
      ]
     },
     "metadata": {},
     "output_type": "display_data"
    },
    {
     "name": "stdout",
     "output_type": "stream",
     "text": [
      "\n",
      "Средний процент ошибок в ридах 14.0762%\n",
      "\n",
      "Статистика длин инделов\n",
      "Среднее 1.4\n",
      "Среднеквадратичное отклонение 3.3\n",
      "Минимум 1, максимум 2798\n",
      "Интервал, в который попадает 95% [-5.1, 8.0]\n",
      "\n",
      "Статистика качества (замена)\n",
      "Среднее 6.6\n",
      "Среднеквадратичное отклонение 4.5\n",
      "Минимум 0, максимум 15\n",
      "Интервал, в который попадает 95% [-2.4, 15.6]\n",
      "\n",
      "Статистика качества (вставка)\n",
      "Среднее 6.8\n",
      "Среднеквадратичное отклонение 4.4\n",
      "Минимум 0, максимум 15\n",
      "Интервал, в который попадает 95% [-2.1, 15.6]\n",
      "\n",
      "Процент инделов, находящихся рядом с гомополимерными участками 0.9%\n"
     ]
    }
   ],
   "source": [
    "errors(sam, ref)"
   ]
  },
  {
   "cell_type": "markdown",
   "metadata": {},
   "source": [
    "# Oxford Nanopores"
   ]
  },
  {
   "cell_type": "code",
   "execution_count": 30,
   "metadata": {},
   "outputs": [
    {
     "name": "stdout",
     "output_type": "stream",
     "text": [
      "32103 + 0 in total (QC-passed reads + QC-failed reads)\r\n",
      "1072 + 0 secondary\r\n",
      "221 + 0 supplementary\r\n",
      "0 + 0 duplicates\r\n",
      "29565 + 0 mapped (92.09% : N/A)\r\n",
      "0 + 0 paired in sequencing\r\n",
      "0 + 0 read1\r\n",
      "0 + 0 read2\r\n",
      "0 + 0 properly paired (N/A : N/A)\r\n",
      "0 + 0 with itself and mate mapped\r\n",
      "0 + 0 singletons (N/A : N/A)\r\n",
      "0 + 0 with mate mapped to a different chr\r\n",
      "0 + 0 with mate mapped to a different chr (mapQ>=5)\r\n"
     ]
    }
   ],
   "source": [
    "!samtools flagstat ONT_2D.sam"
   ]
  },
  {
   "cell_type": "code",
   "execution_count": 31,
   "metadata": {},
   "outputs": [],
   "source": [
    "ref, ref_len, sam = read_data('reference.fasta', 'ONT_2D.sam')"
   ]
  },
  {
   "cell_type": "markdown",
   "metadata": {},
   "source": [
    "## 1. Покрытие генома"
   ]
  },
  {
   "cell_type": "code",
   "execution_count": 32,
   "metadata": {},
   "outputs": [
    {
     "data": {
      "image/png": "[encoded data removed]",
      "text/plain": [
       "<Figure size 432x288 with 1 Axes>"
      ]
     },
     "metadata": {
      "needs_background": "light"
     },
     "output_type": "display_data"
    },
    {
     "name": "stdout",
     "output_type": "stream",
     "text": [
      "Среднее покрытие: 27.5\n",
      "Доля покрытой области генома 100.0%\n"
     ]
    }
   ],
   "source": [
    "coverage(sam, ref_len)"
   ]
  },
  {
   "cell_type": "markdown",
   "metadata": {},
   "source": [
    "## 2. Частоты различных замен"
   ]
  },
  {
   "cell_type": "code",
   "execution_count": 33,
   "metadata": {},
   "outputs": [
    {
     "data": {
      "text/html": [
       "<div>\n",
       "<style scoped>\n",
       "    .dataframe tbody tr th:only-of-type {\n",
       "        vertical-align: middle;\n",
       "    }\n",
       "\n",
       "    .dataframe tbody tr th {\n",
       "        vertical-align: top;\n",
       "    }\n",
       "\n",
       "    .dataframe thead th {\n",
       "        text-align: right;\n",
       "    }\n",
       "</style>\n",
       "<table border=\"1\" class=\"dataframe\">\n",
       "  <thead>\n",
       "    <tr style=\"text-align: right;\">\n",
       "      <th></th>\n",
       "      <th>A</th>\n",
       "      <th>T</th>\n",
       "      <th>C</th>\n",
       "      <th>G</th>\n",
       "      <th>_</th>\n",
       "    </tr>\n",
       "  </thead>\n",
       "  <tbody>\n",
       "    <tr>\n",
       "      <th>A</th>\n",
       "      <td>0.968653</td>\n",
       "      <td>0.003508</td>\n",
       "      <td>0.004461</td>\n",
       "      <td>0.010409</td>\n",
       "      <td>0.012969</td>\n",
       "    </tr>\n",
       "    <tr>\n",
       "      <th>_</th>\n",
       "      <td>0.254879</td>\n",
       "      <td>0.254365</td>\n",
       "      <td>0.243645</td>\n",
       "      <td>0.247111</td>\n",
       "      <td>0.000000</td>\n",
       "    </tr>\n",
       "    <tr>\n",
       "      <th>C</th>\n",
       "      <td>0.003539</td>\n",
       "      <td>0.011679</td>\n",
       "      <td>0.970061</td>\n",
       "      <td>0.002862</td>\n",
       "      <td>0.011859</td>\n",
       "    </tr>\n",
       "    <tr>\n",
       "      <th>G</th>\n",
       "      <td>0.011564</td>\n",
       "      <td>0.003497</td>\n",
       "      <td>0.002668</td>\n",
       "      <td>0.969884</td>\n",
       "      <td>0.012386</td>\n",
       "    </tr>\n",
       "    <tr>\n",
       "      <th>T</th>\n",
       "      <td>0.003431</td>\n",
       "      <td>0.968517</td>\n",
       "      <td>0.011092</td>\n",
       "      <td>0.004118</td>\n",
       "      <td>0.012841</td>\n",
       "    </tr>\n",
       "  </tbody>\n",
       "</table>\n",
       "</div>"
      ],
      "text/plain": [
       "          A         T         C         G         _\n",
       "A  0.968653  0.003508  0.004461  0.010409  0.012969\n",
       "_  0.254879  0.254365  0.243645  0.247111  0.000000\n",
       "C  0.003539  0.011679  0.970061  0.002862  0.011859\n",
       "G  0.011564  0.003497  0.002668  0.969884  0.012386\n",
       "T  0.003431  0.968517  0.011092  0.004118  0.012841"
      ]
     },
     "metadata": {},
     "output_type": "display_data"
    },
    {
     "name": "stdout",
     "output_type": "stream",
     "text": [
      "\n",
      "Средний процент ошибок в ридах 7.7203%\n",
      "\n",
      "Статистика длин инделов\n",
      "Среднее 1.9\n",
      "Среднеквадратичное отклонение 3.7\n",
      "Минимум 1, максимум 1196\n",
      "Интервал, в который попадает 95% [-5.6, 9.3]\n",
      "\n",
      "Статистика качества (замена)\n",
      "Среднее 8.3\n",
      "Среднеквадратичное отклонение 4.8\n",
      "Минимум 1, максимум 93\n",
      "Интервал, в который попадает 95% [-1.4, 18.0]\n",
      "\n",
      "Статистика качества (вставка)\n",
      "Среднее 11.0\n",
      "Среднеквадратичное отклонение 7.1\n",
      "Минимум 1, максимум 93\n",
      "Интервал, в который попадает 95% [-3.2, 25.3]\n",
      "\n",
      "Процент инделов, находящихся рядом с гомополимерными участками 1.5%\n"
     ]
    }
   ],
   "source": [
    "errors(sam, ref)"
   ]
  },
  {
   "cell_type": "markdown",
   "metadata": {},
   "source": [
    "**Вывод:** У Оксфорд нанопор покрытие меньше, но меньше средний процент ошибок. У ПакБио чаще ошибки в виде вставки/удаления."
   ]
  },
  {
   "cell_type": "code",
   "execution_count": null,
   "metadata": {},
   "outputs": [],
   "source": []
  }
 ],
 "metadata": {
  "kernelspec": {
   "display_name": "Python 3",
   "language": "python",
   "name": "python3"
  },
  "language_info": {
   "codemirror_mode": {
    "name": "ipython",
    "version": 3
   },
   "file_extension": ".py",
   "mimetype": "text/x-python",
   "name": "python",
   "nbconvert_exporter": "python",
   "pygments_lexer": "ipython3",
   "version": "3.8.5"
  }
 },
 "nbformat": 4,
 "nbformat_minor": 4
}
